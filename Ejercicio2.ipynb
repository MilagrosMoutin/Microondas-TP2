{
 "cells": [
  {
   "cell_type": "code",
   "execution_count": null,
   "outputs": [],
   "source": [
    "import math\n",
    "import numpy as np\n",
    "import matplotlib.pyplot as plt\n",
    "import scipy.constants as sc"
   ],
   "metadata": {
    "collapsed": false,
    "pycharm": {
     "name": "#%%\n",
     "is_executing": true
    }
   }
  },
  {
   "cell_type": "code",
   "execution_count": null,
   "outputs": [],
   "source": [
    "R = 100 #Ohm\n",
    "L = 10*1e-9 #H\n",
    "f = 1e9 #GHz\n",
    "W = 2*math.pi*f\n",
    "ZL = R + 2*math.pi*f*L*1J\n",
    "print(\"ZL = {}\".format(ZL))\n",
    "Zo = 50\n",
    "Yo = 1/Zo\n",
    "#Asumiendo vacío\n",
    "lambda_z = 3*1e8/f\n",
    "print(lambda_z)"
   ],
   "metadata": {
    "collapsed": false,
    "pycharm": {
     "name": "#%%\n",
     "is_executing": true
    }
   }
  },
  {
   "cell_type": "code",
   "execution_count": null,
   "outputs": [],
   "source": [
    "x = np.linspace(900*1e3,1e9, 10000)"
   ],
   "metadata": {
    "collapsed": false,
    "pycharm": {
     "name": "#%%\n",
     "is_executing": true
    }
   }
  },
  {
   "cell_type": "markdown",
   "source": [
    "## Diseño Red L"
   ],
   "metadata": {
    "collapsed": false,
    "pycharm": {
     "name": "#%% md\n"
    }
   }
  },
  {
   "cell_type": "markdown",
   "source": [
    "Dado que R > Zo, se aplican las siguientes fórmulas para buscar las susceptancias y reactancias:\n",
    "$B = \\frac{X_L \\pm \\sqrt{\\frac{R_L}{Z_o}}\\cdot \\sqrt{R_L^2 + X_L^2Z_oR_L}}{R_L^2 + X_L^2}$\n",
    "$X = \\frac{1}{B} + \\frac{X_LZ_o}{R_L} + \\frac{Z_o}{BR_L}$"
   ],
   "metadata": {
    "collapsed": false,
    "pycharm": {
     "name": "#%% md\n"
    }
   }
  },
  {
   "cell_type": "code",
   "execution_count": null,
   "outputs": [],
   "source": [
    "B_1 = lambda RL, XL: [(XL+(np.sqrt(RL/Zo)*np.sqrt(RL**2 + XL**2 - (Zo*RL))))/(RL**2 + XL**2), (XL-(np.sqrt(RL/Zo)*np.sqrt(RL**2 + XL**2 - (Zo*RL))))/(RL**2 + XL**2)]\n",
    "X_1 = lambda RL, XL, B: [(1/B[0]) + ((XL*Zo)/RL) - (Zo/(RL*B[0])), (1/B[1]) + ((XL*Zo)/RL) - (Zo/(RL*B[1]))]\n",
    "B = B_1(ZL.real, ZL.imag)\n",
    "X = X_1(ZL.real, ZL.imag, B_1(ZL.real, ZL.imag))\n",
    "print(\"solución 1: B = {}, X = {}\".format(B[0], X[0]))\n",
    "print(\"solución 2: B = {}, X = {}\".format(B[1], X[1]))"
   ],
   "metadata": {
    "collapsed": false,
    "pycharm": {
     "name": "#%%\n",
     "is_executing": true
    }
   }
  },
  {
   "cell_type": "code",
   "execution_count": null,
   "outputs": [],
   "source": [
    "rta_redesL = []\n",
    "for B_ in B:\n",
    "    if (B_ > 0):\n",
    "        rta_redesL.append( [B_, \"Capacitor Paralelo\", B_/W] )\n",
    "    else:\n",
    "        rta_redesL.append( [B_,  \"Inductor Paralelo\", -1/(B_*W)] )\n",
    "for X_ in X:\n",
    "    if (X_ > 0):\n",
    "        rta_redesL.append( [X_, \"Inductor Serie\", X_/W] )\n",
    "    else:\n",
    "        rta_redesL.append( [X_,  \"Capacitor Serie\", -1/(X_*W)] )\n",
    "Cp, Cs, Lp, Ls = 0, 0, 0, 0\n",
    "print(\"Solución 1:\")\n",
    "if(rta_redesL[0][1] == \"Capacitor Paralelo\"):\n",
    "    print(rta_redesL[0][1] + \" Cp = {}pF\".format(round(rta_redesL[0][2]*1e12, 3)))\n",
    "    Cp = rta_redesL[0][2]\n",
    "else:\n",
    "    print(rta_redesL[0][1] + \" Lp = {}nH\".format(round(rta_redesL[0][2]*1e9, 3)))\n",
    "    Lp = rta_redesL[0][2]\n",
    "if(rta_redesL[2][1] == \"Capacitor Serie\"):\n",
    "    print(rta_redesL[2][1] + \" Cs = {}pF\".format(round(rta_redesL[2][2]*1e12, 3)))\n",
    "    Cs = rta_redesL[2][2]\n",
    "else:\n",
    "    print(rta_redesL[2][1] + \" Ls = {}nH\".format(round(rta_redesL[2][2]*1e9, 3)))\n",
    "    Ls = rta_redesL[2][2]\n",
    "print(\"Solución 2:\")\n",
    "if(rta_redesL[1][1] == \"Capacitor Paralelo\"):\n",
    "    print(rta_redesL[1][1] + \" Cp = {}pF\".format(round(rta_redesL[1][2]*1e12, 3)))\n",
    "    Cp = rta_redesL[1][2]\n",
    "else:\n",
    "    print(rta_redesL[1][1] + \" Lp = {}nH\".format(round(rta_redesL[1][2]*1e9, 3)))\n",
    "    Lp = rta_redesL[1][2]\n",
    "if(rta_redesL[3][1] == \"Capacitor Serie\"):\n",
    "    print(rta_redesL[3][1] + \" Cs = {}pF\".format(round(rta_redesL[3][2]*1e12, 3)))\n",
    "    Cs = rta_redesL[3][2]\n",
    "else:\n",
    "    print(rta_redesL[3][1] + \" Ls = {}nH\".format(round(rta_redesL[3][2]*1e9, 3)))\n",
    "    Ls = rta_redesL[3][2]"
   ],
   "metadata": {
    "collapsed": false,
    "pycharm": {
     "name": "#%%\n",
     "is_executing": true
    }
   }
  },
  {
   "cell_type": "markdown",
   "source": [
    "Para el cálculo de la ROE se tiene lo siguiente:\n",
    "\\begin{align*}\n",
    "&\\text{Opción 1:}&\n",
    "&\\text{Opción 2:}\\\\\n",
    "&Z_{in} = 10.65\\text{nH}\\cdot \\omega j + \\left ( Z_L\\;//\\;\\frac{-j}{2.24\\text{pF}\\cdot\\omega} \\right )&\n",
    "&Z_{in} = \\frac{-j}{2.4\\text{pF}\\cdot\\omega} + \\left ( Z_L\\;//\\;31,3\\text{nH}\\cdot \\omega j  \\right )\\\\\n",
    "\\end{align*}"
   ],
   "metadata": {
    "collapsed": false,
    "pycharm": {
     "name": "#%% md\n"
    }
   }
  },
  {
   "cell_type": "code",
   "execution_count": null,
   "outputs": [],
   "source": [
    "RedL_Zin_1 = lambda Zl, f: Ls*2*math.pi*f*1J + ((1/Zl) + (-1J/(Cp*2*math.pi*f))**-1)**-1\n",
    "RedL_Zin_2 = lambda Zl, f: (-1J/(Cs*2*math.pi*f)) + ((1/Zl) + (Lp*2*math.pi*f*1J)**-1)**-1\n",
    "#Chequeo que de ~50 Ohms a 1GHz\n",
    "ZL_RedL_1 = lambda f: RedL_Zin_1(R + 1J*2*math.pi*f*L,f)\n",
    "ZL_RedL_2 = lambda f: RedL_Zin_2(R + 1J*2*math.pi*f*L,f)"
   ],
   "metadata": {
    "collapsed": false,
    "pycharm": {
     "name": "#%%\n",
     "is_executing": true
    }
   }
  },
  {
   "cell_type": "markdown",
   "source": [
    "## Diseño Stub Simple"
   ],
   "metadata": {
    "collapsed": false,
    "pycharm": {
     "name": "#%% md\n"
    }
   }
  },
  {
   "cell_type": "markdown",
   "source": [
    "Para el cálculo del Stub se aplican las siguiente fórmulas:\n",
    "\\begin{equation*}\n",
    "    t = \\left\\{\\begin{matrix}\n",
    "\\left ( X_L\\pm \\sqrt{\\frac{R_L[(Z_o - R_L)^2+X_L^2]}{Z_o}} \\right )\\frac{1}{R_L-Z_o}\\;\\;\\;\\; R_L\\neq Z_o\\\\\n",
    "-\\frac{X_L}{2Z_o}\\;\\;\\;\\;\\;\\;\\;\\;\\;\\;\\;\\;\\;\\;\\;\\;\\;\\;\\;\\;\\;\\;\\;\\;\\;\\;\\;\\;\\;\\;\\;\\;\\;\\;\\;\\;\\;\\;\\;\\;\\;\\;\\; R_L= Z_o\n",
    "\\end{matrix}\\right.\n",
    "\\end{equation*}\n",
    "La distancia entre la carga y el stub se calcula como:\n",
    "\\begin{equation*}\n",
    "d = \\left\\{\\begin{matrix}\n",
    "\\frac{\\lambda}{2\\pi}\\cdot arctg(t)\\;\\;\\;\\;\\;\\;\\;\\;\\; t \\geq 0\\\\\\\\\n",
    "\\frac{\\lambda}{2\\pi}[\\pi + arctg(t)]\\;\\;\\; t < 0\n",
    "\\end{matrix}\\right.\n",
    "\\end{equation*}"
   ],
   "metadata": {
    "collapsed": false,
    "pycharm": {
     "name": "#%% md\n"
    }
   }
  },
  {
   "cell_type": "code",
   "execution_count": null,
   "outputs": [],
   "source": [
    "t_stub_par = lambda RL, XL: [(XL+np.sqrt(RL*((Zo-RL)**2 + XL**2)/Zo))/(RL-Zo) , (XL-np.sqrt(RL*((Zo-RL)**2 + XL**2)/Zo))/(RL-Zo) ]\n",
    "d_stub_par = lambda t: np.arctan(t)/(2*math.pi) if (t >= 0) else (1/(2*math.pi))*(math.pi+np.arctan(t))\n",
    "t_stub_simple = t_stub_par(ZL.real, ZL.imag)\n",
    "print(\"Valores de t = {}\".format([t_stub_simple[0],t_stub_simple[1]]))\n",
    "print(\"Distancias (en función de lambda):\")\n",
    "d_stub_simple = [d_stub_par(t_stub_simple[0]), d_stub_par(t_stub_simple[1])]\n",
    "print(\"d1 = {} λ, d2 = {} λ\".format(round(d_stub_simple[0],3), round(d_stub_simple[1],3)))"
   ],
   "metadata": {
    "collapsed": false,
    "pycharm": {
     "name": "#%%\n",
     "is_executing": true
    }
   }
  },
  {
   "cell_type": "markdown",
   "source": [
    "La longitud de las lineas puede calcularse de la siguiente forma:\n",
    "\\begin{align*}\n",
    "l = \\left\\{\\begin{matrix}\n",
    "\\frac{\\lambda}{2\\pi}\\cdot arctan\\left ( \\frac{Y_o}{B} \\right ) \\;\\;\\;\\;\\;\\; \\text{Stub en CC}\n",
    "\\\\ \\\\\n",
    "-\\frac{\\lambda}{2\\pi}\\cdot arctan\\left ( \\frac{B}{Y_o} \\right ) \\;\\;\\; \\text{Stub en CA}\n",
    "\\end{matrix}\\right.\n",
    "\\end{align*}\n",
    "Siendo $B = \\frac{R_L^2t-(Z_o-X_Lt)(X_L+Z_ot)}{Z_o\\;[R_L^2+(X_L+Z_ot)^2]}$"
   ],
   "metadata": {
    "collapsed": false,
    "pycharm": {
     "name": "#%% md\n"
    }
   }
  },
  {
   "cell_type": "code",
   "execution_count": null,
   "outputs": [],
   "source": [
    "B_stub_par = lambda RL, XL, t: (((RL**2)*t) - ((Zo-(XL*t))*(XL+(Zo*t)))) / (Zo*((RL**2) + (XL+(Zo*t))**2))\n",
    "l_stub_par = lambda B, CC: (np.arctan(1/(B*Zo))/(2*np.pi)) if(CC) else -np.arctan(B*Zo)/(2*np.pi)\n",
    "l_stub_par_correc = lambda l: l + 0.5 if(l<0) else l"
   ],
   "metadata": {
    "collapsed": false,
    "pycharm": {
     "name": "#%%\n",
     "is_executing": true
    }
   }
  },
  {
   "cell_type": "markdown",
   "source": [
    "Para la opción 1:"
   ],
   "metadata": {
    "collapsed": false,
    "pycharm": {
     "name": "#%% md\n"
    }
   }
  },
  {
   "cell_type": "code",
   "execution_count": null,
   "outputs": [],
   "source": [
    "B_stub_simple = [B_stub_par(ZL.real, ZL.imag, t_stub_simple[0]), B_stub_par(ZL.real, ZL.imag, t_stub_simple[1])]\n",
    "ls_stub_simple = [l_stub_par_correc(l_stub_par(B_stub_simple[0], True)), l_stub_par_correc(l_stub_par(B_stub_simple[0], False))]#CC y CA\n",
    "print(\"Para opción 1 (d1 = {}λ), se tiene B = {}, lCC = {} λ, lCA = {} λ\".format(round(d_stub_simple[0],3),round(B[0],3), round(ls_stub_simple[0],3), round(ls_stub_simple[1],3)))"
   ],
   "metadata": {
    "collapsed": false,
    "pycharm": {
     "name": "#%%\n",
     "is_executing": true
    }
   }
  },
  {
   "cell_type": "markdown",
   "source": [
    "Para la opción 2:"
   ],
   "metadata": {
    "collapsed": false,
    "pycharm": {
     "name": "#%% md\n"
    }
   }
  },
  {
   "cell_type": "code",
   "execution_count": null,
   "outputs": [],
   "source": [
    "ls_stub_simple = [l_stub_par_correc(l_stub_par(B_stub_simple[1], True)), l_stub_par_correc(l_stub_par(B_stub_simple[1], False))]#CC y CA\n",
    "print(\"Para opción 2 (d2 = {}λ), se tiene B = {}, lCC = {} λ, lCA = {} λ\".format(round(d_stub_simple[1],3),round(B[1],3), round(ls_stub_simple[0],3), round(ls_stub_simple[1],3)))"
   ],
   "metadata": {
    "collapsed": false,
    "pycharm": {
     "name": "#%%\n",
     "is_executing": true
    }
   }
  },
  {
   "cell_type": "code",
   "execution_count": null,
   "outputs": [],
   "source": [
    "ls_stub_simple = [l_stub_par_correc(l_stub_par(B_stub_simple[0], True)), l_stub_par_correc(l_stub_par(B_stub_simple[0], False))]#CC y CA\n",
    "lambda_z_stub_simple = 3*1e8 / (1e9)\n",
    "beta_simple = lambda f_: 2*np.pi*f_ / (3*1e8)\n",
    "d_stub_simple = lambda_z_stub_simple * d_stub_simple[0]\n",
    "l_stub_simple = lambda_z_stub_simple * ls_stub_simple[1]\n",
    "print(\"d_stub = {} m\".format(round(d_stub_simple,5)))\n",
    "print(\"l_stub = {} m\".format(round(l_stub_simple,5)))"
   ],
   "metadata": {
    "collapsed": false,
    "pycharm": {
     "name": "#%%\n",
     "is_executing": true
    }
   }
  },
  {
   "cell_type": "markdown",
   "source": [
    "La impendancia de entrada a la derecha de la linea de transmisión de longitud $d$ se calcula como:\n",
    "\\begin{align*}\n",
    "Z_{in} = Z_o \\cdot \\frac{Z_L + Z_o\\cdot tan(\\beta d)j}{Z_o + Z_L \\cdot tan(\\beta d)j}\n",
    "\\end{align*}\n",
    "La impendancia que representa el stub (en CA) es:\n",
    "\\begin{align*}\n",
    "Z_{in-stub} = -j\\cdot Z_o\\; cotan(\\beta l)\n",
    "\\end{align*}\n",
    "Finalmente la impedancia de entrada total es:\n",
    "\\begin{align*}\n",
    "Z_{in} = \\frac{1}{Y_{in-STUB}-Y_{in-LT}}\n",
    "\\end{align*}"
   ],
   "metadata": {
    "collapsed": false,
    "pycharm": {
     "name": "#%% md\n"
    }
   }
  },
  {
   "cell_type": "code",
   "execution_count": null,
   "outputs": [],
   "source": [
    "Yin_1 = lambda f_, ZL: 1/ (Zo*(ZL + Zo*np.tan(beta_simple(f_)*d_stub_simple)*1J) / (Zo + ZL*np.tan(beta_simple(f_)*d_stub_simple)*1J))\n",
    "Yin_stub = lambda f_: 1 / (1J*Zo/np.tan(beta_simple(f_)*l_stub_simple))\n",
    "Zin_stub_simple = lambda f_: 1 / (Yin_1(f_, R + 2*np.pi*L*f_*1J) - Yin_stub(f_))\n",
    "print(Zin_stub_simple(1e9))"
   ],
   "metadata": {
    "collapsed": false,
    "pycharm": {
     "name": "#%%\n",
     "is_executing": true
    }
   }
  },
  {
   "cell_type": "markdown",
   "source": [
    "## Stub Doble"
   ],
   "metadata": {
    "collapsed": false,
    "pycharm": {
     "name": "#%% md\n"
    }
   }
  },
  {
   "cell_type": "markdown",
   "source": [
    "Fijando un $d = \\frac{3}{8}\\;\\lambda $, se calcula se si puede adaptar o no la carga. Para eso se debe cumplir:\n",
    "\\begin{align*}\n",
    "0 \\leq G_L \\leq \\frac{1}{Z_o\\;sen(\\beta d)}\n",
    "\\end{align*}\n",
    "Donde:\n",
    "\\begin{align*}\n",
    "&Z_{L} = \\frac{1}{G_{L}+B_{L}j}&\n",
    "&t = tan(\\beta d)\\\\\n",
    "&B_1=-B_L+\\frac{Y_o\\pm \\sqrt{(1+t^2)G_LY_o-G_L^2t^2}}{t}&\n",
    "&B_2 = \\frac{\\pm Y_o\\sqrt{(1+t^2)G_LY_o-G_L^2t^2}+G_LY_o}{G_Lt}\\\\\n",
    "\\end{align*}\n"
   ],
   "metadata": {
    "collapsed": false,
    "pycharm": {
     "name": "#%% md\n"
    }
   }
  },
  {
   "cell_type": "code",
   "execution_count": null,
   "outputs": [],
   "source": [
    "d_stub_doble = 3/8\n",
    "t_stub_doble = np.tan(2*math.pi*d_stub_doble)\n",
    "GL = ((1/ZL).real)\n",
    "BL = ((1/ZL).imag)\n",
    "B1_stub_doble = lambda GL, BL, beta, d: [-BL + (Yo + np.sqrt((1+(np.tan(beta*d))**2)*GL*Yo - (GL*np.tan(beta*d))**2))/np.tan(beta*d), -BL + (Yo - np.sqrt((1+np.tan(beta*d)**2)*GL*Yo - (GL*np.tan(beta*d))**2))/np.tan(beta*d)]\n",
    "B2_stub_doble = lambda GL, BL, beta, d:[ (Yo*np.sqrt((1+(np.tan(beta*d))**2)*GL*Yo-(GL*np.tan(beta*d))**2) + GL*Yo) / (GL*np.tan(beta*d)),(-Yo*np.sqrt((1+np.tan(beta*d)**2)*GL*Yo-(GL*np.tan(beta*d))**2) + GL*Yo) / (GL*np.tan(beta*d))]\n",
    "if(GL <= (1/(Zo*np.sin(2*math.pi*d_stub_doble)))):\n",
    "    print(\"Se puede adaptar la carga ZL = {}\".format(ZL))\n",
    "    print(\"GL = {}, BL = {}\".format(round(GL,6), round(BL,6)))\n",
    "    B1, B2 = B1_stub_doble(GL, BL, 2*math.pi, d_stub_doble), B2_stub_doble(GL, BL, 2*math.pi, d_stub_doble)\n",
    "    print(\"B1 = {}, {}, B2 = {}, {}\".format(round(B1[0],6),round(B1[1],6),round(B2[0],6), round(B2[1],6)))\n",
    "    l1 = [l_stub_par_correc(l_stub_par(B1[0],False)),l_stub_par_correc(l_stub_par(B1[1], False)), l_stub_par_correc(l_stub_par(B1[0],True)),l_stub_par_correc(l_stub_par(B1[1], True))]\n",
    "    l2 = [l_stub_par_correc(l_stub_par(B2[0],False)),l_stub_par_correc(l_stub_par(B2[1], False)), l_stub_par_correc(l_stub_par(B2[0],True)),l_stub_par_correc(l_stub_par(B2[1], True))]\n",
    "    print(\"l1_1_CA = {}λ, l1_2_CA = {}λ, l1_1_CC = {}λ, l1_1_CC = {}λ\".format(round(l1[0],3),round(l1[1],3),round(l1[2],3), round(l1[3],3)))\n",
    "    print(\"l2_1_CA = {}λ, l2_2_CA = {}λ, l2_1_CC = {}λ, l2_1_CC = {}λ\".format(round(l2[0],3),round(l2[1],3),round(l2[2],3), round(l2[3],3)))\n"
   ],
   "metadata": {
    "collapsed": false,
    "pycharm": {
     "name": "#%%\n",
     "is_executing": true
    }
   }
  },
  {
   "cell_type": "code",
   "execution_count": null,
   "outputs": [],
   "source": [
    "err_stub_doble = 1\n",
    "lambda_stubdoble = 3*1e8 / f\n",
    "l1_stubdoble = l1[1] * lambda_stubdoble\n",
    "l2_stubdoble = l2[1] * lambda_stubdoble\n",
    "d_stub_doble = d_stub_doble * lambda_stubdoble\n",
    "beta_stubdoble = lambda f_ : 2*np.pi / (3*1e8 / f_)\n",
    "print(\"l1_CA = {} m\".format(round(l1_stubdoble,6)))\n",
    "print(\"d_stub_doble = {} m\".format(round(d_stub_doble,4)))\n",
    "print(\"l2_CA = {} m\".format(round(l2_stubdoble,4)))"
   ],
   "metadata": {
    "collapsed": false,
    "pycharm": {
     "name": "#%%\n",
     "is_executing": true
    }
   }
  },
  {
   "cell_type": "markdown",
   "source": [
    "La impendancia vista por stubs en CA:\n",
    "\\begin{align*}\n",
    "Z_{in-stub} = j\\cdot Z_o\\; cotan(\\beta l)\n",
    "\\end{align*}\n",
    "La admitancia que se ve a la derecha de la linea $l_{2}$:\n",
    "\\begin{align*}\n",
    "&{Z_{in}}'  = Z_o \\cdot \\frac{{Z_L}' + Z_o\\cdot tan(\\beta d)j}{Z_o + {Z_L}' \\cdot tan(\\beta d)j}&\n",
    "&{Y_L}' = Y_L + Y_{stub\\;l_{1}}\\\\\n",
    "\\end{align*}\n",
    "Finalmente la admitancia de entrada total resula:\n",
    "\\begin{align*}\n",
    "Y_{in} = Y_{stub\\;l_{2}} + {Y_{in}}'\n",
    "\\end{align*}"
   ],
   "metadata": {
    "collapsed": false,
    "pycharm": {
     "name": "#%% md\n"
    }
   }
  },
  {
   "cell_type": "code",
   "execution_count": null,
   "outputs": [],
   "source": [
    "Zin1_stubdoble = lambda f_: ((1/(1J*Zo/np.tan(beta_stubdoble(f_)*l1_stubdoble))) + (1/(R + 1J*2*np.pi*L*f_)))**-1\n",
    "Zin2_stubdoble = lambda f_, Z_L: Zo * (Z_L + Zo*np.tan(beta_stubdoble(f_)*d_stub_doble)*1J) / (Zo + Z_L*np.tan(beta_stubdoble(f_)*d_stub_doble)*1J)\n",
    "Y_lCA = lambda f_: 1 / (1J*Zo/np.tan(beta_stubdoble(f_)*l2_stubdoble))\n",
    "print(Y_lCA(1e9))\n",
    "ZL_stub_doble = lambda f_ : ((1/Zin2_stubdoble(f_, Zin1_stubdoble(f_))) + Y_lCA(f_))**-1\n",
    "print(ZL_stub_doble(1e9))"
   ],
   "metadata": {
    "collapsed": false,
    "pycharm": {
     "name": "#%%\n",
     "is_executing": true
    }
   }
  },
  {
   "cell_type": "markdown",
   "source": [],
   "metadata": {
    "collapsed": false,
    "pycharm": {
     "name": "#%% md\n"
    }
   }
  },
  {
   "cell_type": "markdown",
   "source": [],
   "metadata": {
    "collapsed": false,
    "pycharm": {
     "name": "#%% md\n"
    }
   }
  },
  {
   "cell_type": "markdown",
   "source": [
    "## Transformador de $\\frac{\\lambda}{4}$"
   ],
   "metadata": {
    "collapsed": false,
    "pycharm": {
     "name": "#%% md\n"
    }
   }
  },
  {
   "cell_type": "markdown",
   "source": [
    "Dado que estamos trabajando con una carga compleja, primero se lleva la carga al eje real. Para se calcula la longitud $d$ de la linea que estará en serie con la carga:\n",
    "\\begin{align*}\n",
    "t = \\frac{(Z_o^2-R_L^2-X_L^2) \\pm \\sqrt{(Z_o^2-R_L^2-X_L^2)^2 + 4X_L^2Z_o^2}}{2X_L Z_o}\n",
    "\\end{align*}\n"
   ],
   "metadata": {
    "collapsed": false,
    "pycharm": {
     "name": "#%% md\n"
    }
   }
  },
  {
   "cell_type": "code",
   "execution_count": null,
   "outputs": [],
   "source": [
    "t_transformador = lambda RL, XL: [((Zo**2 - RL**2 - XL**2) + np.sqrt((Zo**2 - RL**2 -XL**2)**2 + (2*XL*Zo)**2))/(2*XL*Zo), ((Zo**2 - RL**2 - XL**2) - np.sqrt((Zo**2 - RL**2 -XL**2)**2 + (2*XL*Zo)**2))/(2*XL*Zo)]\n",
    "t_transf = t_transformador(ZL.real, ZL.imag)\n",
    "print(t_transf)\n",
    "d_transf = [d_stub_par(t_transf[0]), d_stub_par(t_transf[1])]\n",
    "print(\"d1 = {}λ, d2 = {}λ \" .format(round(d_stub_par(t_transf[0]),3), round(d_stub_par(t_transf[1]),3)))"
   ],
   "metadata": {
    "collapsed": false,
    "pycharm": {
     "name": "#%%\n",
     "is_executing": true
    }
   }
  },
  {
   "cell_type": "markdown",
   "source": [
    "Se toma únicamente d1, ya que es la distancia más corta."
   ],
   "metadata": {
    "collapsed": false,
    "pycharm": {
     "name": "#%% md\n"
    }
   }
  },
  {
   "cell_type": "code",
   "execution_count": null,
   "outputs": [],
   "source": [
    "d_transf = d_transf[0]"
   ],
   "metadata": {
    "collapsed": false,
    "pycharm": {
     "name": "#%%\n",
     "is_executing": true
    }
   }
  },
  {
   "cell_type": "markdown",
   "source": [
    "La impendancia justo a la derecha del transformador es:\n",
    "\\begin{align*}\n",
    "{Z}' = {R_L}' + {X_L}'j = Z_o \\frac{Z_L + j\\cdot Zo\\;t}{Z_o + j\\cdot Z_L\\;t}}\n",
    "\\end{align*}"
   ],
   "metadata": {
    "collapsed": false,
    "pycharm": {
     "name": "#%% md\n"
    }
   }
  },
  {
   "cell_type": "code",
   "execution_count": null,
   "outputs": [],
   "source": [
    "Zin_1_transf = lambda ZL_, t_: Zo * (ZL_ + (1J*Zo*t_)) / (Zo + (1J*ZL_*t_))\n",
    "RL_prima = Zin_1_transf(ZL,t_transf[0])\n",
    "print(RL_prima)"
   ],
   "metadata": {
    "collapsed": false,
    "pycharm": {
     "name": "#%%\n",
     "is_executing": true
    }
   }
  },
  {
   "cell_type": "markdown",
   "source": [
    "Ahora la impendancia de la segunda linea $Z_1$ resulta:\n",
    "\\begin{align}\n",
    "Z_1 = \\sqrt{Z_o\\;{R_L}'}\n",
    "\\end{align}"
   ],
   "metadata": {
    "collapsed": false,
    "pycharm": {
     "name": "#%% md\n"
    }
   }
  },
  {
   "cell_type": "code",
   "execution_count": null,
   "outputs": [],
   "source": [
    "Z1 = np.sqrt(Zo*RL_prima.real)\n",
    "print(\"Z1 = {} Ω\".format(round(Z1,3)))"
   ],
   "metadata": {
    "collapsed": false,
    "pycharm": {
     "name": "#%%\n",
     "is_executing": true
    }
   }
  },
  {
   "cell_type": "code",
   "execution_count": null,
   "outputs": [],
   "source": [
    "eef_trans_d = 3.35669\n",
    "lambda_z_transf_l1 = (3*1e8)/((1e9)*np.sqrt(eef_trans_d))\n",
    "print(lambda_z_transf_l1)\n",
    "l_trans_l1 = lambda_z_transf_l1 * d_transf\n",
    "print(l_trans_l1)\n",
    "eef_trans = 3.111\n",
    "lambda_z_transf = (3*1e8)/((1e9)*np.sqrt(eef_trans))\n",
    "print(lambda_z_transf)\n",
    "l_trans = lambda_z_transf/4\n",
    "print(l_trans)"
   ],
   "metadata": {
    "collapsed": false,
    "pycharm": {
     "name": "#%%\n",
     "is_executing": true
    }
   }
  },
  {
   "cell_type": "markdown",
   "source": [
    "Para el cálculo de la impendancia de entrada total se tien en cuenta lo siguiente:\n",
    "\\begin{align*}\n",
    "&Z_{in1} = Z_o \\frac{Z_L + j\\cdot Z_o\\;tan(\\beta d)}{Z_o + j\\cdot Z_L\\;tan(\\beta d)}&\n",
    "&Z_{in2} = \\left\\{\\begin{matrix}\n",
    "Z_{1}\\frac{Z_{in1}+j\\cdot Z_{1}\\;tan\\left ( \\beta l_{\\frac{\\lambda}{4}} \\right )}{Z_{1}+j\\cdot Z_{in1}\\;tan\\left ( \\beta l_{\\frac{\\lambda}{4}} \\right )} \\;\\;\\;\\; \\text{si\\;} \\beta l_{\\frac{\\lambda}{4}} \\neq \\frac{\\pi}{2} \\text{\\; es decir $f\\neq1\\;GHz$}\\\\\n",
    "\\\\\n",
    "\\frac{Z_{1}^2}{Z_{in1}} \\;\\;\\;\\;\\;\\;\\;\\;\\;\\;\\;\\;\\;\\;\\text{si\\;} \\beta l_{\\frac{\\lambda}{4}} \\neq \\frac{\\pi}{2} \\text{\\; es decir $f=1\\;GHz$}\n",
    "\\end{matrix}\\right.&\n",
    "\\end{align*}"
   ],
   "metadata": {
    "collapsed": false,
    "pycharm": {
     "name": "#%% md\n"
    }
   }
  },
  {
   "cell_type": "code",
   "execution_count": null,
   "outputs": [],
   "source": [
    "beta_trans = lambda f_,er: (2*math.pi*f_) / ((3*1e8)/np.sqrt(er)) ##Esto es lo que hay que definir en base a si lo implemento con microcintas o que\n",
    "Zin_transf = lambda Z0, Zc, beta, l: Z0*(Zc + (1J*Z0*np.tan(beta*l))) / (Z0 + (1J*Zc*np.tan(beta*l))) if (beta*l != (np.pi/2)).all() else Z0**2 /Zc\n",
    "Zin_1 = Zin_transf(Zo, ZL, beta_trans(1e9, eef_trans_d), l_trans_l1)"
   ],
   "metadata": {
    "collapsed": false,
    "pycharm": {
     "name": "#%%\n",
     "is_executing": true
    }
   }
  },
  {
   "cell_type": "markdown",
   "source": [
    "Para barrido en frecuencia:\n"
   ],
   "metadata": {
    "collapsed": false,
    "pycharm": {
     "name": "#%% md\n"
    }
   }
  },
  {
   "cell_type": "code",
   "execution_count": null,
   "outputs": [],
   "source": [
    "ZL_trans = lambda f: Zin_transf(Z1, Zin_transf(Zo, R + (1J*L*2*math.pi*f), 2*np.pi*f/(3*1e8/np.sqrt(eef_trans_d)), l_trans_l1), 2*np.pi*f/(3*1e8/np.sqrt(eef_trans)), l_trans)"
   ],
   "metadata": {
    "collapsed": false,
    "pycharm": {
     "name": "#%%\n",
     "is_executing": true
    }
   }
  },
  {
   "cell_type": "markdown",
   "source": [
    "Grafico $ROE$ y $RL$. Para eso defino $\\Gamma$ y $ROE$, y $RL$:"
   ],
   "metadata": {
    "collapsed": false,
    "pycharm": {
     "name": "#%% md\n"
    }
   }
  },
  {
   "cell_type": "code",
   "execution_count": null,
   "outputs": [],
   "source": [
    "Gamma = lambda Zl : (Zl-Zo) / (Zl+Zo)\n",
    "ROE = lambda r: (1+abs(r)) / (1-abs(r))\n",
    "RL = lambda r: -20*np.log(abs(r))"
   ],
   "metadata": {
    "collapsed": false,
    "pycharm": {
     "name": "#%%\n",
     "is_executing": true
    }
   }
  },
  {
   "cell_type": "code",
   "execution_count": null,
   "outputs": [],
   "source": [
    "plt.figure(figsize=(8,3))\n",
    "x = np.linspace(900, 1100, 10000) * sc.mega\n",
    "plt.grid()\n",
    "plt.plot(x*1e-9, ROE(Gamma(ZL_RedL_1(x))), label=\"Red L - 1\")\n",
    "plt.plot(x*1e-9, ROE(Gamma(ZL_RedL_2(x))), label=\"Red L - 2\")\n",
    "plt.plot(x*1e-9, ROE(Gamma(Zin_stub_simple(x))), label=\"Stub Simple\")\n",
    "plt.plot(x*1e-9, ROE(Gamma(ZL_trans(x))), label=r\"Transformador $\\frac{\\lambda}{4}$\")\n",
    "#plt.plot(x*1e-9, ROE(Gamma(Zin_stub_doble(x))), label = r\"Stub Doble\")\n",
    "#plt.xlabel(\"f [GHz]\")\n",
    "plt.ylabel(\"ROE\")\n",
    "plt.legend()\n",
    "plt.show()"
   ],
   "metadata": {
    "collapsed": false,
    "pycharm": {
     "name": "#%%\n",
     "is_executing": true
    }
   }
  },
  {
   "cell_type": "code",
   "execution_count": null,
   "outputs": [],
   "source": [
    "plt.figure(figsize=(8,3))\n",
    "plt.grid()\n",
    "plt.plot(x*1e-9, RL(Gamma(ZL_RedL_1(x))), label=\"Red L - 1\")\n",
    "plt.plot(x*1e-9, RL(Gamma(ZL_RedL_2(x))), label=\"Red L - 2\")\n",
    "plt.plot(x*1e-9, RL(Gamma(Zin_stub_simple(x))), label=\"Stub Simple\")\n",
    "plt.plot(x*1e-9, RL(Gamma(ZL_trans(x))), label=r\"Transformador $\\frac{\\lambda}{4}$\")\n",
    "plt.xlabel(\"f [GHz]\")\n",
    "plt.ylabel(\"RL [dB]\")\n",
    "plt.ylim([25,150])\n",
    "plt.legend()\n",
    "plt.show()"
   ],
   "metadata": {
    "collapsed": false,
    "pycharm": {
     "name": "#%%\n",
     "is_executing": true
    }
   }
  },
  {
   "cell_type": "markdown",
   "source": [
    "Periodicidad de Transformador de $\\frac{\\lambda}{4}$"
   ],
   "metadata": {
    "collapsed": false,
    "pycharm": {
     "name": "#%% md\n"
    }
   }
  },
  {
   "cell_type": "code",
   "execution_count": null,
   "outputs": [],
   "source": [
    "fig = plt.figure(figsize=(12,4))\n",
    "x = np.linspace(100, 20000, 10000) * sc.mega\n",
    "plt.grid()\n",
    "plt.plot(x*1e-9, ROE(Gamma(ZL_trans(x))), label=r\"Transformador $\\frac{\\lambda}{4}$\")\n",
    "plt.xlabel(\"f [GHz]\")\n",
    "plt.ylabel(r\"$ROE$\")\n",
    "plt.legend()\n",
    "plt.show()"
   ],
   "metadata": {
    "collapsed": false,
    "pycharm": {
     "name": "#%%\n",
     "is_executing": true
    }
   }
  },
  {
   "cell_type": "code",
   "execution_count": null,
   "outputs": [],
   "source": [],
   "metadata": {
    "collapsed": false,
    "pycharm": {
     "name": "#%%\n",
     "is_executing": true
    }
   }
  }
 ],
 "metadata": {
  "kernelspec": {
   "display_name": "Python 3",
   "language": "python",
   "name": "python3"
  },
  "language_info": {
   "codemirror_mode": {
    "name": "ipython",
    "version": 2
   },
   "file_extension": ".py",
   "mimetype": "text/x-python",
   "name": "python",
   "nbconvert_exporter": "python",
   "pygments_lexer": "ipython2",
   "version": "2.7.6"
  }
 },
 "nbformat": 4,
 "nbformat_minor": 0
}