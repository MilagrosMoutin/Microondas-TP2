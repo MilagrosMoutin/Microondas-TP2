{
 "cells": [
  {
   "cell_type": "code",
   "execution_count": 973,
   "outputs": [],
   "source": [
    "import math\n",
    "import numpy as np\n",
    "import matplotlib.pyplot as plt"
   ],
   "metadata": {
    "collapsed": false,
    "pycharm": {
     "name": "#%%\n"
    }
   }
  },
  {
   "cell_type": "code",
   "execution_count": 974,
   "outputs": [
    {
     "name": "stdout",
     "output_type": "stream",
     "text": [
      "ZL = (100+62.83185307179586j)\n",
      "0.3\n"
     ]
    }
   ],
   "source": [
    "R = 100 #Ohm\n",
    "L = 10*1e-9 #H\n",
    "f = 1e9 #GHz\n",
    "W = 2*math.pi*f\n",
    "ZL = R + 2*math.pi*f*L*1J\n",
    "print(\"ZL = {}\".format(ZL))\n",
    "Zo = 50\n",
    "Yo = 1/Zo\n",
    "#Asumiendo vacío\n",
    "lambda_z = 3*1e8/f\n",
    "print(lambda_z)"
   ],
   "metadata": {
    "collapsed": false,
    "pycharm": {
     "name": "#%%\n"
    }
   }
  },
  {
   "cell_type": "code",
   "execution_count": 975,
   "outputs": [],
   "source": [
    "x = np.linspace(900*1e3,1e9, 10000)"
   ],
   "metadata": {
    "collapsed": false,
    "pycharm": {
     "name": "#%%\n"
    }
   }
  },
  {
   "cell_type": "markdown",
   "source": [
    "## Diseño Red L"
   ],
   "metadata": {
    "collapsed": false,
    "pycharm": {
     "name": "#%% md\n"
    }
   }
  },
  {
   "cell_type": "markdown",
   "source": [
    "Dado que R > Zo, se aplican las siguientes fórmulas para buscar las susceptancias y reactancias:\n",
    "$B = \\frac{X_L \\pm \\sqrt{\\frac{R_L}{Z_o}}\\cdot \\sqrt{R_L^2 + X_L^2Z_oR_L}}{R_L^2 + X_L^2}$\n",
    "$X = \\frac{1}{B} + \\frac{X_LZ_o}{R_L} + \\frac{Z_o}{BR_L}$"
   ],
   "metadata": {
    "collapsed": false,
    "pycharm": {
     "name": "#%% md\n"
    }
   }
  },
  {
   "cell_type": "code",
   "execution_count": 976,
   "outputs": [
    {
     "name": "stdout",
     "output_type": "stream",
     "text": [
      "solución 1: B = 0.01409584404804315, X = 66.887374595045\n",
      "solución 2: B = -0.005086299180675378, X = -66.88737459504497\n"
     ]
    }
   ],
   "source": [
    "B_1 = lambda RL, XL: [(XL+(np.sqrt(RL/Zo)*np.sqrt(RL**2 + XL**2 - (Zo*RL))))/(RL**2 + XL**2), (XL-(np.sqrt(RL/Zo)*np.sqrt(RL**2 + XL**2 - (Zo*RL))))/(RL**2 + XL**2)]\n",
    "X_1 = lambda RL, XL, B: [(1/B[0]) + ((XL*Zo)/RL) - (Zo/(RL*B[0])), (1/B[1]) + ((XL*Zo)/RL) - (Zo/(RL*B[1]))]\n",
    "B = B_1(ZL.real, ZL.imag)\n",
    "X = X_1(ZL.real, ZL.imag, B_1(ZL.real, ZL.imag))\n",
    "print(\"solución 1: B = {}, X = {}\".format(B[0], X[0]))\n",
    "print(\"solución 2: B = {}, X = {}\".format(B[1], X[1]))"
   ],
   "metadata": {
    "collapsed": false,
    "pycharm": {
     "name": "#%%\n"
    }
   }
  },
  {
   "cell_type": "code",
   "execution_count": 977,
   "outputs": [
    {
     "name": "stdout",
     "output_type": "stream",
     "text": [
      "Solución 1:\n",
      "Capacitor Paralelo Cp = 2.243pF\n",
      "Inductor Serie Ls = 10.645nH\n",
      "Solución 2:\n",
      "Inductor Paralelo Lp = 31.291nH\n",
      "Capacitor Serie Cs = 2.379pF\n"
     ]
    }
   ],
   "source": [
    "rta_redesL = []\n",
    "for B_ in B:\n",
    "    if (B_ > 0):\n",
    "        rta_redesL.append( [B_, \"Capacitor Paralelo\", B_/W] )\n",
    "    else:\n",
    "        rta_redesL.append( [B_,  \"Inductor Paralelo\", -1/(B_*W)] )\n",
    "for X_ in X:\n",
    "    if (X_ > 0):\n",
    "        rta_redesL.append( [X_, \"Inductor Serie\", X_/W] )\n",
    "    else:\n",
    "        rta_redesL.append( [X_,  \"Capacitor Serie\", -1/(X_*W)] )\n",
    "Cp, Cs, Lp, Ls = 0, 0, 0, 0\n",
    "print(\"Solución 1:\")\n",
    "if(rta_redesL[0][1] == \"Capacitor Paralelo\"):\n",
    "    print(rta_redesL[0][1] + \" Cp = {}pF\".format(round(rta_redesL[0][2]*1e12, 3)))\n",
    "    Cp = rta_redesL[0][2]\n",
    "else:\n",
    "    print(rta_redesL[0][1] + \" Lp = {}nH\".format(round(rta_redesL[0][2]*1e9, 3)))\n",
    "    Lp = rta_redesL[0][2]\n",
    "if(rta_redesL[2][1] == \"Capacitor Serie\"):\n",
    "    print(rta_redesL[2][1] + \" Cs = {}pF\".format(round(rta_redesL[2][2]*1e12, 3)))\n",
    "    Cs = rta_redesL[2][2]\n",
    "else:\n",
    "    print(rta_redesL[2][1] + \" Ls = {}nH\".format(round(rta_redesL[2][2]*1e9, 3)))\n",
    "    Ls = rta_redesL[2][2]\n",
    "print(\"Solución 2:\")\n",
    "if(rta_redesL[1][1] == \"Capacitor Paralelo\"):\n",
    "    print(rta_redesL[1][1] + \" Cp = {}pF\".format(round(rta_redesL[1][2]*1e12, 3)))\n",
    "    Cp = rta_redesL[1][2]\n",
    "else:\n",
    "    print(rta_redesL[1][1] + \" Lp = {}nH\".format(round(rta_redesL[1][2]*1e9, 3)))\n",
    "    Lp = rta_redesL[1][2]\n",
    "if(rta_redesL[3][1] == \"Capacitor Serie\"):\n",
    "    print(rta_redesL[3][1] + \" Cs = {}pF\".format(round(rta_redesL[3][2]*1e12, 3)))\n",
    "    Cs = rta_redesL[3][2]\n",
    "else:\n",
    "    print(rta_redesL[3][1] + \" Ls = {}nH\".format(round(rta_redesL[3][2]*1e9, 3)))\n",
    "    Ls = rta_redesL[3][2]"
   ],
   "metadata": {
    "collapsed": false,
    "pycharm": {
     "name": "#%%\n"
    }
   }
  },
  {
   "cell_type": "markdown",
   "source": [
    "Para el cálculo de la ROE se tiene lo siguiente:\n",
    "\\begin{align*}\n",
    "&\\text{Opción 1:}&\n",
    "&\\text{Opción 2:}\\\\\n",
    "&Z_{in} = 10.65\\text{nH}\\cdot \\omega j + \\left ( Z_L\\;//\\;\\frac{-j}{2.24\\text{pF}\\cdot\\omega} \\right )&\n",
    "&Z_{in} = \\frac{-j}{2.4\\text{pF}\\cdot\\omega} + \\left ( Z_L\\;//\\;31,3\\text{nH}\\cdot \\omega j  \\right )\\\\\n",
    "\\end{align*}"
   ],
   "metadata": {
    "collapsed": false,
    "pycharm": {
     "name": "#%% md\n"
    }
   }
  },
  {
   "cell_type": "code",
   "execution_count": 978,
   "outputs": [],
   "source": [
    "RedL_Zin_1 = lambda Zl, f: Ls*2*math.pi*f*1J + ((1/Zl) + (-1J/(Cp*2*math.pi*f))**-1)**-1\n",
    "RedL_Zin_2 = lambda Zl, f: (-1J/(Cs*2*math.pi*f)) + ((1/Zl) + (Lp*2*math.pi*f*1J)**-1)**-1\n",
    "#Chequeo que de ~50 Ohms a 1GHz\n",
    "ZL_RedL_1 = lambda f: RedL_Zin_1(R + 1J*2*math.pi*f*L,f)\n",
    "ZL_RedL_2 = lambda f: RedL_Zin_2(R + 1J*2*math.pi*f*L,f)"
   ],
   "metadata": {
    "collapsed": false,
    "pycharm": {
     "name": "#%%\n"
    }
   }
  },
  {
   "cell_type": "markdown",
   "source": [
    "## Diseño Stub Simple"
   ],
   "metadata": {
    "collapsed": false,
    "pycharm": {
     "name": "#%% md\n"
    }
   }
  },
  {
   "cell_type": "markdown",
   "source": [
    "Para el cálculo del Stub se aplican las siguiente fórmulas:\n",
    "\\begin{equation*}\n",
    "    t = \\left\\{\\begin{matrix}\n",
    "\\left ( X_L\\pm \\sqrt{\\frac{R_L[(Z_o - R_L)^2+X_L^2]}{Z_o}} \\right )\\frac{1}{R_L-Z_o}\\;\\;\\;\\; R_L\\neq Z_o\\\\\n",
    "-\\frac{X_L}{2Z_o}\\;\\;\\;\\;\\;\\;\\;\\;\\;\\;\\;\\;\\;\\;\\;\\;\\;\\;\\;\\;\\;\\;\\;\\;\\;\\;\\;\\;\\;\\;\\;\\;\\;\\;\\;\\;\\;\\;\\;\\;\\;\\;\\; R_L= Z_o\n",
    "\\end{matrix}\\right.\n",
    "\\end{equation*}\n",
    "La distancia entre la carga y el stub se calcula como:\n",
    "\\begin{equation*}\n",
    "d = \\left\\{\\begin{matrix}\n",
    "\\frac{\\lambda}{2\\pi}\\cdot arctg(t)\\;\\;\\;\\;\\;\\;\\;\\;\\; t \\geq 0\\\\\\\\\n",
    "\\frac{\\lambda}{2\\pi}[\\pi + arctg(t)]\\;\\;\\; t < 0\n",
    "\\end{matrix}\\right.\n",
    "\\end{equation*}"
   ],
   "metadata": {
    "collapsed": false,
    "pycharm": {
     "name": "#%% md\n"
    }
   }
  },
  {
   "cell_type": "code",
   "execution_count": 979,
   "outputs": [
    {
     "name": "stdout",
     "output_type": "stream",
     "text": [
      "Valores de t = [3.5278203231628513, -1.0145462002910168]\n",
      "Distancias (en función de lambda):\n",
      "d1 = 0.206 λ, d2 = 0.374 λ\n"
     ]
    }
   ],
   "source": [
    "t_stub_par = lambda RL, XL: [(XL+np.sqrt(RL*((Zo-RL)**2 + XL**2)/Zo))/(RL-Zo) , (XL-np.sqrt(RL*((Zo-RL)**2 + XL**2)/Zo))/(RL-Zo) ]\n",
    "d_stub_par = lambda t: np.arctan(t)/(2*math.pi) if (t >= 0) else (1/(2*math.pi))*(math.pi+np.arctan(t))\n",
    "t_stub_simple = t_stub_par(ZL.real, ZL.imag)\n",
    "print(\"Valores de t = {}\".format([t_stub_simple[0],t_stub_simple[1]]))\n",
    "print(\"Distancias (en función de lambda):\")\n",
    "d_stub_simple = [d_stub_par(t_stub_simple[0]), d_stub_par(t_stub_simple[1])]\n",
    "print(\"d1 = {} λ, d2 = {} λ\".format(round(d_stub_simple[0],3), round(d_stub_simple[1],3)))"
   ],
   "metadata": {
    "collapsed": false,
    "pycharm": {
     "name": "#%%\n"
    }
   }
  },
  {
   "cell_type": "markdown",
   "source": [
    "La longitud de las lineas puede calcularse de la siguiente forma:\n",
    "\\begin{align*}\n",
    "l = \\left\\{\\begin{matrix}\n",
    "\\frac{\\lambda}{2\\pi}\\cdot arctan\\left ( \\frac{Y_o}{B} \\right ) \\;\\;\\;\\;\\;\\; \\text{Stub en CC}\n",
    "\\\\ \\\\\n",
    "-\\frac{\\lambda}{2\\pi}\\cdot arctan\\left ( \\frac{B}{Y_o} \\right ) \\;\\;\\; \\text{Stub en CA}\n",
    "\\end{matrix}\\right.\n",
    "\\end{align*}\n",
    "Siendo $B = \\frac{R_L^2t-(Z_o-X_Lt)(X_L+Z_ot)}{Z_o\\;[R_L^2+(X_L+Z_ot)^2]}$"
   ],
   "metadata": {
    "collapsed": false,
    "pycharm": {
     "name": "#%% md\n"
    }
   }
  },
  {
   "cell_type": "code",
   "execution_count": 980,
   "outputs": [],
   "source": [
    "B_stub_par = lambda RL, XL, t: (((RL**2)*t) - ((Zo-(XL*t))*(XL+(Zo*t)))) / (Zo*((RL**2) + (XL+(Zo*t))**2))\n",
    "l_stub_par = lambda B, CC: (np.arctan(1/(B*Zo))/(2*np.pi)) if(CC) else -np.arctan(B*Zo)/(2*np.pi)\n",
    "l_stub_par_correc = lambda l: l + 0.5 if(l<0) else l"
   ],
   "metadata": {
    "collapsed": false,
    "pycharm": {
     "name": "#%%\n"
    }
   }
  },
  {
   "cell_type": "markdown",
   "source": [
    "Para la opción 1:"
   ],
   "metadata": {
    "collapsed": false,
    "pycharm": {
     "name": "#%% md\n"
    }
   }
  },
  {
   "cell_type": "code",
   "execution_count": 981,
   "outputs": [
    {
     "name": "stdout",
     "output_type": "stream",
     "text": [
      "Para opción 1 (d1 = 0.206λ), se tiene B = 0.014, lCC = 0.115 λ, lCA = 0.365 λ\n"
     ]
    }
   ],
   "source": [
    "B_stub_simple = [B_stub_par(ZL.real, ZL.imag, t_stub_simple[0]), B_stub_par(ZL.real, ZL.imag, t_stub_simple[1])]\n",
    "ls_stub_simple = [l_stub_par_correc(l_stub_par(B_stub_simple[0], True)), l_stub_par_correc(l_stub_par(B_stub_simple[0], False))]#CC y CA\n",
    "print(\"Para opción 1 (d1 = {}λ), se tiene B = {}, lCC = {} λ, lCA = {} λ\".format(round(d_stub_simple[0],3),round(B[0],3), round(ls_stub_simple[0],3), round(ls_stub_simple[1],3)))"
   ],
   "metadata": {
    "collapsed": false,
    "pycharm": {
     "name": "#%%\n"
    }
   }
  },
  {
   "cell_type": "markdown",
   "source": [
    "Para la opción 2:"
   ],
   "metadata": {
    "collapsed": false,
    "pycharm": {
     "name": "#%% md\n"
    }
   }
  },
  {
   "cell_type": "code",
   "execution_count": 982,
   "outputs": [
    {
     "name": "stdout",
     "output_type": "stream",
     "text": [
      "Para opción 2 (d2 = 0.374λ), se tiene B = -0.005, lCC = 0.385 λ, lCA = 0.135 λ\n"
     ]
    }
   ],
   "source": [
    "ls_stub_simple = [l_stub_par_correc(l_stub_par(B_stub_simple[1], True)), l_stub_par_correc(l_stub_par(B_stub_simple[1], False))]#CC y CA\n",
    "print(\"Para opción 2 (d2 = {}λ), se tiene B = {}, lCC = {} λ, lCA = {} λ\".format(round(d_stub_simple[1],3),round(B[1],3), round(ls_stub_simple[0],3), round(ls_stub_simple[1],3)))"
   ],
   "metadata": {
    "collapsed": false,
    "pycharm": {
     "name": "#%%\n"
    }
   }
  },
  {
   "cell_type": "markdown",
   "source": [
    "Con el AWR utilizando FR4 se calculó que $\\varepsilon _{ef} = 3.35669$. Con lo cual"
   ],
   "metadata": {
    "collapsed": false,
    "pycharm": {
     "name": "#%% md\n"
    }
   }
  },
  {
   "cell_type": "code",
   "execution_count": 983,
   "outputs": [],
   "source": [
    "eef_stub_simple = 3.35669\n",
    "lambda_z_stub_simple = 3*1e8/(f*np.sqrt(eef_stub_simple))\n",
    "d_stub_simple = lambda_z_stub_simple * d_stub_simple[0]"
   ],
   "metadata": {
    "collapsed": false,
    "pycharm": {
     "name": "#%%\n"
    }
   }
  },
  {
   "cell_type": "markdown",
   "source": [
    "La impendancia de entrada a la derecha de la linea de transmisión de longitud $d$ se calcula como:\n",
    "\\begin{align*}\n",
    "Z = \\frac{1}{Y} = \\frac{1}{G+Bj}\n",
    "\\end{align*}\n",
    "Donde\n",
    "\\begin{align*}\n",
    "&G = \\frac{R_L(1+tan(\\beta d)^2)}{R_L^2 + (X_L+Z_o\\cdot tan(\\beta d))^2}&\n",
    "& B = \\frac{R_L^2\\;tan(\\beta d) - (Z_o-X_L\\cdot tan(\\beta d))(X_L+Z_o\\cdot tan(\\beta d))}{Z_o\\cdot [R_L^2+(X_L+Z_o\\cdot tan(\\beta d))^2]}\\\\\n",
    "\\end{align*}"
   ],
   "metadata": {
    "collapsed": false,
    "pycharm": {
     "name": "#%% md\n"
    }
   }
  },
  {
   "cell_type": "code",
   "execution_count": 984,
   "outputs": [],
   "source": [
    "beta_stubsimple = lambda f: (2*math.pi*f) / (3*1e8/np.sqrt(eef_stub_simple))\n",
    "G_stub_simple = lambda RL, XL, beta: RL*(1 + np.tan(beta*d_stub_simple)**2) / (RL**2 + (XL + Zo*np.tan(beta*d_stub_simple))**2)\n",
    "B_stub_simple = lambda RL, XL, beta: ( (RL**2 * np.tan(beta*d_stub_simple) ) - (Zo - (XL*np.tan(beta*d_stub_simple)))*(XL + (Zo*np.tan(beta*d_stub_simple)))) / (Zo*(RL**2 + (XL+Zo*np.tan(beta*d_stub_simple))**2))\n",
    "Z_in_stubsimple = lambda G, B, B_stub: 1 / (G + B*1J - B_stub*1J)"
   ],
   "metadata": {
    "collapsed": false,
    "pycharm": {
     "name": "#%%\n"
    }
   }
  },
  {
   "cell_type": "markdown",
   "source": [
    "Para barrido en frecuencia:"
   ],
   "metadata": {
    "collapsed": false,
    "pycharm": {
     "name": "#%% md\n"
    }
   }
  },
  {
   "cell_type": "code",
   "execution_count": 985,
   "outputs": [],
   "source": [
    "ZL_stub_simple = lambda f: Z_in_stubsimple(G_stub_simple(R,2*math.pi*f*L, beta_stubsimple(f)),B_stub_simple(R,2*math.pi*f*L, beta_stubsimple(f)), B_stub_par(R,2*math.pi*f*L, np.tan(d_stub_simple*beta_stubsimple(f))))"
   ],
   "metadata": {
    "collapsed": false,
    "pycharm": {
     "name": "#%%\n"
    }
   }
  },
  {
   "cell_type": "markdown",
   "source": [
    "## Stub Doble"
   ],
   "metadata": {
    "collapsed": false,
    "pycharm": {
     "name": "#%% md\n"
    }
   }
  },
  {
   "cell_type": "markdown",
   "source": [
    "Fijando un $d = \\frac{3}{8}\\;\\lambda $, se calcula se si puede adaptar o no la carga. Para eso se debe cumplir:\n",
    "\\begin{align*}\n",
    "0 \\leq G_L \\leq \\frac{1}{Z_o\\;sen(\\beta d)}\n",
    "\\end{align*}\n",
    "Donde:\n",
    "\\begin{align*}\n",
    "&Z_{L} = \\frac{1}{G_{L}+B_{L}j}&\n",
    "&t = tan(\\beta d)\\\\\n",
    "&B_1=-B_L+\\frac{Y_o\\pm \\sqrt{(1+t^2)G_LY_o-G_L^2t^2}}{t}&\n",
    "&B_2 = \\frac{\\pm Y_o\\sqrt{(1+t^2)G_LY_o-G_L^2t^2}+G_LY_o}{G_Lt}\\\\\n",
    "\\end{align*}\n"
   ],
   "metadata": {
    "collapsed": false,
    "pycharm": {
     "name": "#%% md\n"
    }
   }
  },
  {
   "cell_type": "code",
   "execution_count": 986,
   "outputs": [
    {
     "name": "stdout",
     "output_type": "stream",
     "text": [
      "Se puede adaptar la carga ZL = (100+62.83185307179586j)\n",
      "GL = 0.00717, BL = -0.004505\n",
      "B1 = -0.030837, -0.000153, B2 = -0.062798, 0.022798\n",
      "l1_1_CA = 0.158λ, l1_2_CA = 0.001λ, l1_1_CC = 0.408λ, l1_1_CC = 0.251219λ\n"
     ]
    }
   ],
   "source": [
    "d_stub_doble = 3/8\n",
    "t_stub_doble = np.tan(2*math.pi*d_stub_doble)\n",
    "GL = ((1/ZL).real)\n",
    "BL = ((1/ZL).imag)\n",
    "B1_stub_doble = lambda GL, BL, beta, d: [-BL + (Yo + np.sqrt((1+np.tan(beta*d)**2)*GL*Yo - (GL*np.tan(beta*d))**2))/np.tan(beta*d), -BL + (Yo - np.sqrt((1+np.tan(beta*d)**2)*GL*Yo - (GL*np.tan(beta*d))**2))/np.tan(beta*d)]\n",
    "B2_stub_doble = lambda GL, BL, beta, d:[ (Yo*np.sqrt((1+np.tan(beta*d)**2)*GL*Yo-(GL*np.tan(beta*d))**2) + GL*Yo) / (GL*np.tan(beta*d)),(-Yo*np.sqrt((1+np.tan(beta*d)**2)*GL*Yo-(GL*np.tan(beta*d))**2) + GL*Yo) / (GL*np.tan(beta*d))]\n",
    "if(GL <= (1/(Zo*np.sin(2*math.pi*d_stub_doble)))):\n",
    "    print(\"Se puede adaptar la carga ZL = {}\".format(ZL))\n",
    "    print(\"GL = {}, BL = {}\".format(round(GL,6), round(BL,6)))\n",
    "    B1, B2 = B1_stub_doble(GL, BL, 2*math.pi, d_stub_doble), B2_stub_doble(GL, BL, 2*math.pi, d_stub_doble)\n",
    "    print(\"B1 = {}, {}, B2 = {}, {}\".format(round(B1[0],6),round(B1[1],6),round(B2[0],6), round(B2[1],6)))\n",
    "    l1 = [l_stub_par_correc(l_stub_par(B1[0],False)),l_stub_par_correc(l_stub_par(B1[1], False)), l_stub_par_correc(l_stub_par(B1[0],True)),l_stub_par_correc(l_stub_par(B1[1], True))]\n",
    "    l2 = [l_stub_par_correc(l_stub_par(B1[1],False)),l_stub_par_correc(l_stub_par(B1[1], False)), l_stub_par_correc(l_stub_par(B1[1],True)),l_stub_par_correc(l_stub_par(B1[1], True))]\n",
    "    print(\"l1_1_CA = {}λ, l1_2_CA = {}λ, l1_1_CC = {}λ, l1_1_CC = {}λ\".format(round(l1[0],3),round(l1[1],3),round(l1[2],3), round(l1[3],6)))\n"
   ],
   "metadata": {
    "collapsed": false,
    "pycharm": {
     "name": "#%%\n"
    }
   }
  },
  {
   "cell_type": "markdown",
   "source": [
    "## Transformador de $\\frac{\\lambda}{4}$"
   ],
   "metadata": {
    "collapsed": false,
    "pycharm": {
     "name": "#%% md\n"
    }
   }
  },
  {
   "cell_type": "markdown",
   "source": [
    "Dado que estamos trabajando con una carga compleja, primero se lleva la carga al eje real. Para se calcula la longitud $d$ de la linea que estará en serie con la carga:\n",
    "\\begin{align*}\n",
    "t = \\frac{(Z_o^2-R_L^2-X_L^2) \\pm \\sqrt{(Z_o^2-R_L^2-X_L^2)^2 + 4X_L^2Z_o^2}}{2X_L Z_o}\n",
    "\\end{align*}\n"
   ],
   "metadata": {
    "collapsed": false,
    "pycharm": {
     "name": "#%% md\n"
    }
   }
  },
  {
   "cell_type": "code",
   "execution_count": 987,
   "outputs": [
    {
     "name": "stdout",
     "output_type": "stream",
     "text": [
      "d1 = 0.04λ, d2 = 0.29λ \n"
     ]
    }
   ],
   "source": [
    "t_transformador = lambda RL, XL: [((Zo**2 - RL**2 - XL**2) + np.sqrt((Zo**2 - RL**2 -XL**2)**2 + (2*XL*Zo)**2))/(2*XL*Zo), ((Zo**2 - RL**2 - XL**2) - np.sqrt((Zo**2 - RL**2 -XL**2)**2 + (2*XL*Zo)**2))/(2*XL*Zo)]\n",
    "t_transf = t_transformador(ZL.real, ZL.imag)\n",
    "d_transf = [d_stub_par(t_transf[0]), d_stub_par(t_transf[1])]\n",
    "print(\"d1 = {}λ, d2 = {}λ \" .format(round(d_stub_par(t_transf[0]),3), round(d_stub_par(t_transf[1]),3)))"
   ],
   "metadata": {
    "collapsed": false,
    "pycharm": {
     "name": "#%%\n"
    }
   }
  },
  {
   "cell_type": "markdown",
   "source": [
    "Se toma únicamente d1, ya que es la distancia más corta."
   ],
   "metadata": {
    "collapsed": false,
    "pycharm": {
     "name": "#%% md\n"
    }
   }
  },
  {
   "cell_type": "code",
   "execution_count": 988,
   "outputs": [],
   "source": [
    "d_transf = d_transf[0]\n",
    "t_transf = t_transf[0]"
   ],
   "metadata": {
    "collapsed": false,
    "pycharm": {
     "name": "#%%\n"
    }
   }
  },
  {
   "cell_type": "markdown",
   "source": [
    "La impendancia justo a la derecha del transformador es:\n",
    "\\begin{align*}\n",
    "{Z}' = {R_L}' + {X_L}'j = Z_o \\frac{Z_L + j\\cdot Zo\\;t}{Z_o + j\\cdot Z_L\\;t}}\n",
    "\\end{align*}"
   ],
   "metadata": {
    "collapsed": false,
    "pycharm": {
     "name": "#%% md\n"
    }
   }
  },
  {
   "cell_type": "code",
   "execution_count": 989,
   "outputs": [
    {
     "name": "stdout",
     "output_type": "stream",
     "text": [
      "(147.53306352380125-1.706794192838452e-14j)\n"
     ]
    }
   ],
   "source": [
    "Zin_1_transf = lambda ZL_, t_: Zo * (ZL_ + (1J*Zo*t_)) / (Zo + (1J*ZL_*t_))\n",
    "RL_prima = Zin_1_transf(ZL,t_transf)\n",
    "print(RL_prima)"
   ],
   "metadata": {
    "collapsed": false,
    "pycharm": {
     "name": "#%%\n"
    }
   }
  },
  {
   "cell_type": "markdown",
   "source": [
    "Ahora la impendancia de la segunda linea $Z_1$ resulta:\n",
    "\\begin{align}\n",
    "Z_1 = \\sqrt{Z_o\\;{R_L}'}\n",
    "\\end{align}"
   ],
   "metadata": {
    "collapsed": false,
    "pycharm": {
     "name": "#%% md\n"
    }
   }
  },
  {
   "cell_type": "code",
   "execution_count": 990,
   "outputs": [
    {
     "name": "stdout",
     "output_type": "stream",
     "text": [
      "Z1 = 85.887 Ω\n"
     ]
    }
   ],
   "source": [
    "Z1 = np.sqrt(Zo*RL_prima.real)\n",
    "print(\"Z1 = {} Ω\".format(round(Z1,3)))"
   ],
   "metadata": {
    "collapsed": false,
    "pycharm": {
     "name": "#%%\n"
    }
   }
  },
  {
   "cell_type": "code",
   "execution_count": 991,
   "outputs": [],
   "source": [
    "eef_trans_d = 3.35669\n",
    "lambda_z_transf_l1 = 3*1e8/(f*np.sqrt(eef_stub_simple))\n",
    "d_transf = lambda_z_transf_l1 * d_transf\n",
    "eef_trans = 3.111\n",
    "lambda_z_transf = 3*1e8/(f*np.sqrt(eef_stub_simple))\n",
    "l_trans = lambda_z_transf/4"
   ],
   "metadata": {
    "collapsed": false,
    "pycharm": {
     "name": "#%%\n"
    }
   }
  },
  {
   "cell_type": "markdown",
   "source": [
    "Para el cálculo de la impendancia de entrada total se tien en cuenta lo siguiente:\n",
    "\\begin{align*}\n",
    "&Z_{in1} = Z_o \\frac{Z_L + j\\cdot Z_o\\;tan(\\beta d)}{Z_o + j\\cdot Z_L\\;tan(\\beta d)}&\n",
    "&Z_{in2} = \\left\\{\\begin{matrix}\n",
    "Z_{1}\\frac{Z_{in1}+j\\cdot Z_{1}\\;tan\\left ( \\beta l_{\\frac{\\lambda}{4}} \\right )}{Z_{1}+j\\cdot Z_{in1}\\;tan\\left ( \\beta l_{\\frac{\\lambda}{4}} \\right )} \\;\\;\\;\\; \\text{si\\;} \\beta l_{\\frac{\\lambda}{4}} \\neq \\frac{\\pi}{2} \\text{\\; es decir $f\\neq1\\;GHz$}\\\\\n",
    "\\\\\n",
    "\\frac{Z_{1}^2}{Z_{in1}} \\;\\;\\;\\;\\;\\;\\;\\;\\;\\;\\;\\;\\;\\;\\text{si\\;} \\beta l_{\\frac{\\lambda}{4}} \\neq \\frac{\\pi}{2} \\text{\\; es decir $f\\neq1\\;GHz$}\n",
    "\\end{matrix}\\right.&\n",
    "\\end{align*}"
   ],
   "metadata": {
    "collapsed": false,
    "pycharm": {
     "name": "#%% md\n"
    }
   }
  },
  {
   "cell_type": "code",
   "execution_count": 992,
   "outputs": [],
   "source": [
    "beta_trans = lambda f,er: (2*math.pi*f) / (3*1e8/np.sqrt(er)) ##Esto es lo que hay que definir en base a si lo implemento con microcintas o que\n",
    "Zin_transf = lambda Z0, Zl, beta, d: Z0*(Zl + 1J*Z0*np.tan(beta*d)) / (Z0 + 1J*Zl*np.tan(beta*d)) if(beta*d != (math.pi/2)).any() else (Z0**2) / Zl"
   ],
   "metadata": {
    "collapsed": false,
    "pycharm": {
     "name": "#%%\n"
    }
   }
  },
  {
   "cell_type": "markdown",
   "source": [
    "Para barrido en frecuencia:\n"
   ],
   "metadata": {
    "collapsed": false,
    "pycharm": {
     "name": "#%% md\n"
    }
   }
  },
  {
   "cell_type": "code",
   "execution_count": 993,
   "outputs": [
    {
     "name": "stdout",
     "output_type": "stream",
     "text": [
      "(49.99999999999999+5.78444638805693e-15j)\n"
     ]
    }
   ],
   "source": [
    "ZL_trans = lambda f: Zin_transf(Z1, Zin_transf(Zo, R + 1J*L*2*math.pi*f, beta_trans(f,eef_trans_d), d_transf), beta_trans(f,eef_trans_d), l_trans)\n",
    "print(ZL_trans(1e9))"
   ],
   "metadata": {
    "collapsed": false,
    "pycharm": {
     "name": "#%%\n"
    }
   }
  },
  {
   "cell_type": "markdown",
   "source": [
    "Grafico $ROE$ y $RL$. Para eso defino $\\Gamma$ y $ROE$, y $RL$:"
   ],
   "metadata": {
    "collapsed": false,
    "pycharm": {
     "name": "#%% md\n"
    }
   }
  },
  {
   "cell_type": "code",
   "execution_count": 994,
   "outputs": [],
   "source": [
    "Gamma = lambda Zl : (Zl-Zo) / (Zl+Zo)\n",
    "ROE = lambda r: (1+abs(r)) / (1-abs(r))\n",
    "RL = lambda r: -20*np.log(abs(r))"
   ],
   "metadata": {
    "collapsed": false,
    "pycharm": {
     "name": "#%%\n"
    }
   }
  },
  {
   "cell_type": "code",
   "execution_count": 995,
   "outputs": [
    {
     "data": {
      "text/plain": "<Figure size 1200x400 with 1 Axes>",
      "image/png": "[encoded data removed]"
     },
     "metadata": {},
     "output_type": "display_data"
    }
   ],
   "source": [
    "fig = plt.figure(figsize=(12,4))\n",
    "x = np.linspace(900*1e6, 1.1*1e9, 1000000)\n",
    "plt.grid()\n",
    "plt.plot(x*1e-9, ROE(Gamma(ZL_RedL_1(x))), label=\"Red L - 1\")\n",
    "plt.plot(x*1e-9, ROE(Gamma(ZL_RedL_2(x))), label=\"Red L - 2\")\n",
    "plt.plot(x*1e-9, ROE(Gamma(ZL_stub_simple(x))), label=\"Stub Simple\")\n",
    "plt.plot(x*1e-9, ROE(Gamma(ZL_trans(x))), label=r\"Transformador $\\frac{\\lambda}{4}$\")\n",
    "plt.xlabel(\"f [GHz]\")\n",
    "plt.ylabel(\"ROE\")\n",
    "plt.legend()\n",
    "plt.show()"
   ],
   "metadata": {
    "collapsed": false,
    "pycharm": {
     "name": "#%%\n"
    }
   }
  },
  {
   "cell_type": "code",
   "execution_count": 996,
   "outputs": [
    {
     "data": {
      "text/plain": "<Figure size 1200x400 with 1 Axes>",
      "image/png": "[encoded data removed]"
     },
     "metadata": {},
     "output_type": "display_data"
    }
   ],
   "source": [
    "fig = plt.figure(figsize=(12,4))\n",
    "x = np.linspace(900*1e6, 1.1*1e9, 1000000)\n",
    "plt.grid()\n",
    "plt.plot(x*1e-9, RL(Gamma(ZL_RedL_1(x))), label=\"Red L - 1\")\n",
    "plt.plot(x*1e-9, RL(Gamma(ZL_RedL_2(x))), label=\"Red L - 2\")\n",
    "plt.plot(x*1e-9, RL(Gamma(ZL_stub_simple(x))), label=\"Stub Simple\")\n",
    "plt.plot(x*1e-9, RL(Gamma(ZL_trans(x))), label=r\"Transformador $\\frac{\\lambda}{4}$\")\n",
    "plt.xlabel(\"f [GHz]\")\n",
    "plt.ylabel(\"RL [dB]\")\n",
    "plt.ylim([25,150])\n",
    "plt.legend()\n",
    "plt.show()"
   ],
   "metadata": {
    "collapsed": false,
    "pycharm": {
     "name": "#%%\n"
    }
   }
  }
 ],
 "metadata": {
  "kernelspec": {
   "display_name": "Python 3",
   "language": "python",
   "name": "python3"
  },
  "language_info": {
   "codemirror_mode": {
    "name": "ipython",
    "version": 2
   },
   "file_extension": ".py",
   "mimetype": "text/x-python",
   "name": "python",
   "nbconvert_exporter": "python",
   "pygments_lexer": "ipython2",
   "version": "2.7.6"
  }
 },
 "nbformat": 4,
 "nbformat_minor": 0
}