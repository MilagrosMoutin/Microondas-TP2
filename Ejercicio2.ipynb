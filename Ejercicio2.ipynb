{
 "cells": [
  {
   "cell_type": "code",
   "execution_count": 340,
   "outputs": [],
   "source": [
    "import math\n",
    "import numpy as np"
   ],
   "metadata": {
    "collapsed": false,
    "pycharm": {
     "name": "#%%\n"
    }
   }
  },
  {
   "cell_type": "code",
   "execution_count": 341,
   "outputs": [
    {
     "name": "stdout",
     "output_type": "stream",
     "text": [
      "ZL = (100+62.83185307179586j)\n",
      "0.3\n"
     ]
    }
   ],
   "source": [
    "R = 100 #Ohm\n",
    "L = 10*1e-9 #H\n",
    "f = 1e9 #GHz\n",
    "W = 2*math.pi*f\n",
    "ZL = R + 2*math.pi*f*L*1J\n",
    "print(\"ZL = {}\".format(ZL))\n",
    "Zo = 50\n",
    "#Asumiendo vacío\n",
    "lambda_z = 3*1e8/f\n",
    "print(lambda_z)"
   ],
   "metadata": {
    "collapsed": false,
    "pycharm": {
     "name": "#%%\n"
    }
   }
  },
  {
   "cell_type": "markdown",
   "source": [
    "## Diseño Red L"
   ],
   "metadata": {
    "collapsed": false,
    "pycharm": {
     "name": "#%% md\n"
    }
   }
  },
  {
   "cell_type": "markdown",
   "source": [
    "Dado que R > Zo, se aplican las siguientes fórmulas para buscar las susceptancias y reactancias:\n",
    "$B = \\frac{X_L \\pm \\sqrt{\\frac{R_L}{Z_o}}\\cdot \\sqrt{R_L^2 + X_L^2Z_oR_L}}{R_L^2 + X_L^2}$\n",
    "$X = \\frac{1}{B} + \\frac{X_LZ_o}{R_L} + \\frac{Z_o}{BR_L}$"
   ],
   "metadata": {
    "collapsed": false,
    "pycharm": {
     "name": "#%% md\n"
    }
   }
  },
  {
   "cell_type": "code",
   "execution_count": 342,
   "outputs": [
    {
     "name": "stdout",
     "output_type": "stream",
     "text": [
      "solución 1: B = 0.01409584404804315, X = 66.887374595045\n",
      "solución 2: B = -0.005086299180675378, X = -66.88737459504497\n"
     ]
    }
   ],
   "source": [
    "B_1 = lambda RL, XL: [(XL+(np.sqrt(RL/Zo)*np.sqrt(RL**2 + XL**2 - (Zo*RL))))/(RL**2 + XL**2), (XL-(np.sqrt(RL/Zo)*np.sqrt(RL**2 + XL**2 - (Zo*RL))))/(RL**2 + XL**2)]\n",
    "X_1 = lambda RL, XL, B: [(1/B[0]) + ((XL*Zo)/RL) - (Zo/(RL*B[0])), (1/B[1]) + ((XL*Zo)/RL) - (Zo/(RL*B[1]))]\n",
    "B = B_1(ZL.real, ZL.imag)\n",
    "X = X_1(ZL.real, ZL.imag, B_1(ZL.real, ZL.imag))\n",
    "print(\"solución 1: B = {}, X = {}\".format(B[0], X[0]))\n",
    "print(\"solución 2: B = {}, X = {}\".format(B[1], X[1]))"
   ],
   "metadata": {
    "collapsed": false,
    "pycharm": {
     "name": "#%%\n"
    }
   }
  },
  {
   "cell_type": "code",
   "execution_count": 343,
   "outputs": [
    {
     "name": "stdout",
     "output_type": "stream",
     "text": [
      "Solución 1:\n",
      "Capacitor Paralelo Cp = 2.243pF\n",
      "Inductor Serie Ls = 10.645nH\n",
      "Solución 2:\n",
      "Inductor Paralelo Lp = 31.291nH\n",
      "Capacitor Serie Cs = 2.379pF\n"
     ]
    }
   ],
   "source": [
    "rta_redesL = []\n",
    "for B_ in B:\n",
    "    if (B_ > 0):\n",
    "        rta_redesL.append( [B_, \"Capacitor Paralelo\", B_/W] )\n",
    "    else:\n",
    "        rta_redesL.append( [B_,  \"Inductor Paralelo\", -1/(B_*W)] )\n",
    "for X_ in X:\n",
    "    if (X_ > 0):\n",
    "        rta_redesL.append( [X_, \"Inductor Serie\", X_/W] )\n",
    "    else:\n",
    "        rta_redesL.append( [X_,  \"Capacitor Serie\", -1/(X_*W)] )\n",
    "Cp, Cs, Lp, Ls = 0, 0, 0, 0\n",
    "print(\"Solución 1:\")\n",
    "if(rta_redesL[0][1] == \"Capacitor Paralelo\"):\n",
    "    print(rta_redesL[0][1] + \" Cp = {}pF\".format(round(rta_redesL[0][2]*1e12, 3)))\n",
    "    Cp = rta_redesL[0][2]\n",
    "else:\n",
    "    print(rta_redesL[0][1] + \" Lp = {}nH\".format(round(rta_redesL[0][2]*1e9, 3)))\n",
    "    Lp = rta_redesL[0][2]\n",
    "if(rta_redesL[2][1] == \"Capacitor Serie\"):\n",
    "    print(rta_redesL[2][1] + \" Cs = {}pF\".format(round(rta_redesL[2][2]*1e12, 3)))\n",
    "    Cs = rta_redesL[2][2]\n",
    "else:\n",
    "    print(rta_redesL[2][1] + \" Ls = {}nH\".format(round(rta_redesL[2][2]*1e9, 3)))\n",
    "    Ls = rta_redesL[2][2]\n",
    "print(\"Solución 2:\")\n",
    "if(rta_redesL[1][1] == \"Capacitor Paralelo\"):\n",
    "    print(rta_redesL[1][1] + \" Cp = {}pF\".format(round(rta_redesL[1][2]*1e12, 3)))\n",
    "    Cp = rta_redesL[1][2]\n",
    "else:\n",
    "    print(rta_redesL[1][1] + \" Lp = {}nH\".format(round(rta_redesL[1][2]*1e9, 3)))\n",
    "    Lp = rta_redesL[1][2]\n",
    "if(rta_redesL[3][1] == \"Capacitor Serie\"):\n",
    "    print(rta_redesL[3][1] + \" Cs = {}pF\".format(round(rta_redesL[3][2]*1e12, 3)))\n",
    "    Cs = rta_redesL[3][2]\n",
    "else:\n",
    "    print(rta_redesL[3][1] + \" Ls = {}nH\".format(round(rta_redesL[3][2]*1e9, 3)))\n",
    "    Ls = rta_redesL[3][2]"
   ],
   "metadata": {
    "collapsed": false,
    "pycharm": {
     "name": "#%%\n"
    }
   }
  },
  {
   "cell_type": "markdown",
   "source": [
    "Para el cálculo de la ROE se tiene lo siguiente:\n",
    "\\begin{align*}\n",
    "&\\text{Opción 1:}&\n",
    "&\\text{Opción 2:}\\\\\n",
    "&Z_{in} = 10.65\\text{nH}\\cdot \\omega j + \\left ( Z_L\\;//\\;\\frac{-j}{2.24\\text{pF}\\cdot\\omega} \\right )&\n",
    "&Z_{in} = \\frac{-j}{2.4\\text{pF}\\cdot\\omega} + \\left ( Z_L\\;//\\;31,3\\text{nH}\\cdot \\omega j  \\right )\\\\\n",
    "\\end{align*}"
   ],
   "metadata": {
    "collapsed": false,
    "pycharm": {
     "name": "#%% md\n"
    }
   }
  },
  {
   "cell_type": "code",
   "execution_count": 344,
   "outputs": [
    {
     "name": "stdout",
     "output_type": "stream",
     "text": [
      "(49.99999999999999+0j) (49.99999999999999+2.842170943040401e-14j)\n"
     ]
    }
   ],
   "source": [
    "RedL_Zin_1 = lambda f: Ls*2*math.pi*f*1J + ((1/ZL) + (-1J/(Cp*2*math.pi*f))**-1)**-1\n",
    "RedLZin_2 = lambda f: (-1J/(Cs*2*math.pi*f)) + ((1/ZL) + (Lp*2*math.pi*f*1J)**-1)**-1\n",
    "#Chequeo que de ~50 Ohms a 1GHz\n",
    "print(RedL_Zin_1(1e9), RedLZin_2(1e9))"
   ],
   "metadata": {
    "collapsed": false,
    "pycharm": {
     "name": "#%%\n"
    }
   }
  },
  {
   "cell_type": "markdown",
   "source": [
    "## Diseño Stub Simple"
   ],
   "metadata": {
    "collapsed": false,
    "pycharm": {
     "name": "#%% md\n"
    }
   }
  },
  {
   "cell_type": "markdown",
   "source": [
    "Para el cálculo del Stub se aplican las siguiente fórmulas:\n",
    "\\begin{equation*}\n",
    "    t = \\left\\{\\begin{matrix}\n",
    "\\left ( X_L\\pm \\sqrt{\\frac{R_L[(Z_o - R_L)^2+X_L^2]}{Z_o}} \\right )\\frac{1}{R_L-Z_o}\\;\\;\\;\\; R_L\\neq Z_o\\\\\n",
    "-\\frac{X_L}{2Z_o}\\;\\;\\;\\;\\;\\;\\;\\;\\;\\;\\;\\;\\;\\;\\;\\;\\;\\;\\;\\;\\;\\;\\;\\;\\;\\;\\;\\;\\;\\;\\;\\;\\;\\;\\;\\;\\;\\;\\;\\;\\;\\;\\; R_L= Z_o\n",
    "\\end{matrix}\\right.\n",
    "\\end{equation*}\n",
    "La distancia entre la carga y el stub se calcula como:\n",
    "\\begin{equation*}\n",
    "d = \\left\\{\\begin{matrix}\n",
    "\\frac{\\lambda}{2\\pi}\\cdot arctg(t)\\;\\;\\;\\;\\;\\;\\;\\;\\; t \\geq 0\\\\\\\\\n",
    "\\frac{\\lambda}{2\\pi}[\\pi + arctg(t)]\\;\\;\\; t < 0\n",
    "\\end{matrix}\\right.\n",
    "\\end{equation*}\n",
    "Luego las longitudes del stub se calcularan de forma gráfica con el programa $\\textit{Smith V4}$."
   ],
   "metadata": {
    "collapsed": false,
    "pycharm": {
     "name": "#%% md\n"
    }
   }
  },
  {
   "cell_type": "code",
   "execution_count": 345,
   "outputs": [
    {
     "name": "stdout",
     "output_type": "stream",
     "text": [
      "Valores de t = [3.5278203231628513, -1.0145462002910168]\n",
      "Distancias (en función de lambda):\n",
      "d1 = 0.206 λ, d2 = 0.374 λ\n"
     ]
    }
   ],
   "source": [
    "t_stub_par = lambda RL, XL: [(XL+np.sqrt(RL*((Zo-RL)**2 + XL**2)/Zo))/(RL-Zo) , (XL-np.sqrt(RL*((Zo-RL)**2 + XL**2)/Zo))/(RL-Zo) ]\n",
    "d_stub_par = lambda t: np.arctan(t)/(2*math.pi) if (t >= 0) else (1/(2*math.pi))*(math.pi+np.arctan(t))\n",
    "t1 = t_stub_par(ZL.real, ZL.imag)\n",
    "print(\"Valores de t = {}\".format([t1[0],t1[1]]))\n",
    "print(\"Distancias (en función de lambda):\")\n",
    "print(\"d1 = {} λ, d2 = {} λ\".format(round(d_stub_par(t1[0]),3), round(d_stub_par(t1[1]),3)))"
   ],
   "metadata": {
    "collapsed": false,
    "pycharm": {
     "name": "#%%\n"
    }
   }
  },
  {
   "cell_type": "markdown",
   "source": [
    "La longitud de las lineas puede calcularse de la siguiente forma:\n",
    "\\begin{align*}\n",
    "\\end{align*}"
   ],
   "metadata": {
    "collapsed": false,
    "pycharm": {
     "name": "#%% md\n"
    }
   }
  },
  {
   "cell_type": "code",
   "execution_count": null,
   "outputs": [],
   "source": [],
   "metadata": {
    "collapsed": false,
    "pycharm": {
     "name": "#%%\n"
    }
   }
  },
  {
   "cell_type": "markdown",
   "source": [],
   "metadata": {
    "collapsed": false,
    "pycharm": {
     "name": "#%% md\n"
    }
   }
  }
 ],
 "metadata": {
  "kernelspec": {
   "display_name": "Python 3",
   "language": "python",
   "name": "python3"
  },
  "language_info": {
   "codemirror_mode": {
    "name": "ipython",
    "version": 2
   },
   "file_extension": ".py",
   "mimetype": "text/x-python",
   "name": "python",
   "nbconvert_exporter": "python",
   "pygments_lexer": "ipython2",
   "version": "2.7.6"
  }
 },
 "nbformat": 4,
 "nbformat_minor": 0
}