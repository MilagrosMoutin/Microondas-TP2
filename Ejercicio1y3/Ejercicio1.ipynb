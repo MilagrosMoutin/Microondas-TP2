{
 "cells": [
  {
   "cell_type": "code",
   "execution_count": 1,
   "outputs": [],
   "source": [
    "import math\n",
    "import numpy as np\n",
    "import matplotlib.pyplot as plt"
   ],
   "metadata": {
    "collapsed": false,
    "pycharm": {
     "name": "#%%\n"
    }
   }
  },
  {
   "cell_type": "markdown",
   "source": [
    "## Diseño de redes adaptadores tipo L"
   ],
   "metadata": {
    "collapsed": false,
    "pycharm": {
     "name": "#%% md\n"
    }
   }
  },
  {
   "cell_type": "markdown",
   "source": [
    "A continuación se calculan los distintos valores de susceptancia y reactancia para distintos valores de $Z_L$.\n",
    "Si se cumple que $R_L > Z_o$ se utilizan las siguientes fórmulas:\n",
    "$B = \\frac{X_L \\pm \\sqrt{\\frac{R_L}{Z_o}}\\cdot \\sqrt{R_L^2 + X_L^2Z_oR_L}}{R_L^2 + X_L^2}$\n",
    "$X = \\frac{1}{B} + \\frac{X_LZ_o}{R_L} + \\frac{Z_o}{BR_L}$\n",
    "Si se cumple que $R_L < Z_o$ se utilizan las siguientes fórmulas:\n",
    "$X = \\pm \\sqrt{R_L(Z_o-R_L)} - X_L$\n",
    "$B = \\pm \\sqrt{\\frac{Z_o - R_L}{R_L}}\\cdot\\frac{1}{Z_o}$"
   ],
   "metadata": {
    "collapsed": false,
    "pycharm": {
     "name": "#%% md\n"
    }
   }
  },
  {
   "cell_type": "markdown",
   "source": [
    "Datos del Problema:"
   ],
   "metadata": {
    "collapsed": false,
    "pycharm": {
     "name": "#%% md\n"
    }
   }
  },
  {
   "cell_type": "code",
   "execution_count": 2,
   "outputs": [
    {
     "name": "stdout",
     "output_type": "stream",
     "text": [
      "Impedancia Característica (Zo) = 50\n",
      "Impedancias ZL: [(70+100j), (10+15j), (25+45j), (80-15j)]\n"
     ]
    }
   ],
   "source": [
    "Zo = 50 #Ω\n",
    "ZL = [1.4+2J, 0.2+0.3J, 0.5+0.9J, 1.6-0.3J] #Impedancia normalizadas\n",
    "for i in range(len(ZL)):\n",
    "    ZL[i] = ZL[i]*Zo\n",
    "print(\"Impedancia Característica (Zo) = {}\".format(Zo))\n",
    "print(\"Impedancias ZL: {}\".format(ZL))"
   ],
   "metadata": {
    "collapsed": false,
    "pycharm": {
     "name": "#%%\n"
    }
   }
  },
  {
   "cell_type": "markdown",
   "source": [
    "Se nombra al caso $R_L > Z_o$ CASO I, entonces se definen:"
   ],
   "metadata": {
    "collapsed": false,
    "pycharm": {
     "name": "#%% md\n"
    }
   }
  },
  {
   "cell_type": "code",
   "execution_count": 3,
   "metadata": {
    "collapsed": true,
    "pycharm": {
     "name": "#%%\n"
    }
   },
   "outputs": [],
   "source": [
    "B_1 = lambda RL, XL: [(XL+(np.sqrt(RL/Zo)*np.sqrt(RL**2 + XL**2 - (Zo*RL))))/(RL**2 + XL**2), (XL-(np.sqrt(RL/Zo)*np.sqrt(RL**2 + XL**2 - (Zo*RL))))/(RL**2 + XL**2)]\n",
    "X_1 = lambda RL, XL, B: [(1/B[0]) + ((XL*Zo)/RL) - (Zo/(RL*B[0])), (1/B[1]) + ((XL*Zo)/RL) - (Zo/(RL*B[1]))]"
   ]
  },
  {
   "cell_type": "markdown",
   "source": [
    "Se al nombre al caso $R_L < Z_o$ CASO II, entonces se definen:"
   ],
   "metadata": {
    "collapsed": false,
    "pycharm": {
     "name": "#%% md\n"
    }
   }
  },
  {
   "cell_type": "code",
   "execution_count": 4,
   "outputs": [],
   "source": [
    "X_2 = lambda RL, XL: [np.sqrt(RL*(Zo-RL))-XL, -np.sqrt(RL*(Zo-RL))-XL]\n",
    "B_2 = lambda RL, XL: [np.sqrt((Zo-RL)/RL)/Zo, -np.sqrt((Zo-RL)/RL)/Zo]"
   ],
   "metadata": {
    "collapsed": false,
    "pycharm": {
     "name": "#%%\n"
    }
   }
  },
  {
   "cell_type": "code",
   "execution_count": 5,
   "outputs": [
    {
     "name": "stdout",
     "output_type": "stream",
     "text": [
      "ZL = (70+100j), caso: ZL > Zo, opcion 1: B = 0.01519, X = 90.23778 opcion 2: B = -0.00177, X = -90 \n",
      "ZL = (10+15j), caso: ZL < Zo, opcion 1: B = 0.04, X = 5.0 opcion 2: B = -0.04, X = -35 \n",
      "ZL = (25+45j), caso: ZL < Zo, opcion 1: B = 0.02, X = -20.0 opcion 2: B = -0.02, X = -70 \n",
      "ZL = (80-15j), caso: ZL > Zo, opcion 1: B = 0.00752, X = 40.50463 opcion 2: B = -0.01205, X = -41 \n"
     ]
    }
   ],
   "source": [
    "results = []\n",
    "caso = []\n",
    "for zl in ZL:\n",
    "    if (zl.real > Zo):\n",
    "        results.append([B_1(zl.real, zl.imag),X_1(zl.real, zl.imag, B_1(zl.real, zl.imag)), [zl, \"ZL > Zo\"]])\n",
    "        caso.append(\"ZL > Zo\")\n",
    "    else:\n",
    "        results.append([B_2(zl.real, zl.imag), X_2(zl.real, zl.imag), [zl, \"ZL < Zo\"]])\n",
    "        caso.append(\"ZL < Zo\")\n",
    "for i in range(len(ZL)):\n",
    "    print(\"ZL = {}, caso: \".format(ZL[i]) + caso[i] +\", opcion 1: B = {}, X = {} opcion 2: B = {}, X = {} \".format(round(results[i][0][0],5), round(results[i][1][0],5), round(results[i][0][1],5), round(results[i][1][1]),5))"
   ],
   "metadata": {
    "collapsed": false,
    "pycharm": {
     "name": "#%%\n"
    }
   }
  },
  {
   "cell_type": "markdown",
   "source": [
    "Una vez calculadas las susceptancias y reactancias, se calculan los componentes con la siguiente regla:\n",
    "\\begin{align*}\n",
    "    &X > 0: \\text{Inductor Serie} \\rightarrow L = \\frac{X}{\\omega}&\n",
    "    & X < 0: \\text{Capacitor Serie} \\rightarrow C = \\frac{1}{-\\omega X} \\\\\n",
    "    &B > 0: \\text{Capacitor Paralelo} \\rightarrow C = \\frac{B}{\\omega}&\n",
    "    &B < 0: \\text{Capacitor Paralelo} \\rightarrow C = \\frac{1}{-B \\omega}\n",
    "\\end{align*}"
   ],
   "metadata": {
    "collapsed": false,
    "pycharm": {
     "name": "#%% md\n"
    }
   }
  },
  {
   "cell_type": "code",
   "execution_count": 6,
   "outputs": [],
   "source": [
    "f = 1*1e9 #Hz\n",
    "W = 2*math.pi*f"
   ],
   "metadata": {
    "collapsed": false,
    "pycharm": {
     "name": "#%%\n"
    }
   }
  },
  {
   "cell_type": "code",
   "execution_count": 7,
   "outputs": [
    {
     "name": "stdout",
     "output_type": "stream",
     "text": [
      "[[0.01519012708582752, -0.0017673082938812106], [90.23778112773574, -90.23778112773579], [(70+100j), 'ZL > Zo'], [[['Capacitor Paralelo', 2.417583811903537e-12], ['Inductor Paralelo', 9.005499699340681e-08]], [['Inductor Serie', 1.436178892012369e-08], ['Capacitor Serie', 1.7637284638748385e-12]]]]\n"
     ]
    }
   ],
   "source": [
    "for i in results:\n",
    "    B_comp = []\n",
    "    for B in i[0]:\n",
    "        if(B > 0):\n",
    "            B_comp.append([\"Capacitor Paralelo\",B/W])\n",
    "        else:\n",
    "            B_comp.append([\"Inductor Paralelo\",-1/(B*W)])\n",
    "    X_comp = []\n",
    "    for X in i[1]:\n",
    "        if(X > 0):\n",
    "            X_comp.append([\"Inductor Serie\",X/W])\n",
    "        else:\n",
    "            X_comp.append([\"Capacitor Serie\",-1/(X*W)])\n",
    "    i.append([B_comp, X_comp])\n",
    "print(results[0])"
   ],
   "metadata": {
    "collapsed": false,
    "pycharm": {
     "name": "#%%\n"
    }
   }
  },
  {
   "cell_type": "markdown",
   "source": [
    "Para cada valor de $Z_L$ se obtiene lo siguiente:"
   ],
   "metadata": {
    "collapsed": false,
    "pycharm": {
     "name": "#%% md\n"
    }
   }
  },
  {
   "cell_type": "markdown",
   "source": [],
   "metadata": {
    "collapsed": false,
    "pycharm": {
     "name": "#%% md\n"
    }
   }
  },
  {
   "cell_type": "code",
   "execution_count": 8,
   "outputs": [
    {
     "name": "stdout",
     "output_type": "stream",
     "text": [
      "Para el caso zl = (70+100j), caso ZL > Zo, se tienen las dos siguientes soluciones: \n",
      "Solución 1: \n",
      "C_p = 2.417583811903537e-12 F\n",
      "L_s = 1.436178892012369e-08 H\n",
      "Solución 2: \n",
      "L_p = 9.005499699340681e-08 H\n",
      "C_s = 1.7637284638748385e-12 F\n",
      "Para el caso zl = (10+15j), caso ZL < Zo, se tienen las dos siguientes soluciones: \n",
      "Solución 1: \n",
      "C_p = 6.3661977236758135e-12 F\n",
      "L_s = 7.957747154594766e-10 H\n",
      "Solución 2: \n",
      "L_p = 3.9788735772973836e-09 H\n",
      "C_s = 4.5472840883398665e-12 F\n",
      "Para el caso zl = (25+45j), caso ZL < Zo, se tienen las dos siguientes soluciones: \n",
      "Solución 1: \n",
      "C_p = 3.1830988618379067e-12 F\n",
      "C_s = 7.957747154594766e-12 F\n",
      "Solución 2: \n",
      "L_p = 7.957747154594767e-09 H\n",
      "C_s = 2.2736420441699333e-12 F\n",
      "Para el caso zl = (80-15j), caso ZL > Zo, se tienen las dos siguientes soluciones: \n",
      "Solución 1: \n",
      "C_p = 1.1965426451480606e-12 F\n",
      "L_s = 6.446511981552704e-09 H\n",
      "Solución 2: \n",
      "L_p = 1.3211825040176498e-08 H\n",
      "C_s = 3.929302541136888e-12 F\n"
     ]
    }
   ],
   "source": [
    "for i in results:\n",
    "    print(\"Para el caso zl = {}, caso {}, se tienen las dos siguientes soluciones: \".format(i[2][0], i[2][1]))\n",
    "    #Imprimo Solución 1\n",
    "    print(\"Solución 1: \")\n",
    "    if(i[3][0][0][0] == \"Capacitor Paralelo\"):\n",
    "        print(\"C_p = {} F\".format(i[3][0][0][1]))\n",
    "    else:\n",
    "        print(\"L_p = {} H\".format(i[3][0][0][1]))\n",
    "    if(i[3][1][0][0] == \"Capacitor Serie\"):\n",
    "        print(\"C_s = {} F\".format(i[3][1][0][1],2))\n",
    "    elif (i[3][1][0][0] == \"Inductor Serie\"):\n",
    "        print(\"L_s = {} H\".format(i[3][1][0][1],2))\n",
    "      #Imprimo Solución 2\n",
    "    print(\"Solución 2: \")\n",
    "    if(i[3][0][1][0] == \"Capacitor Paralelo\"):\n",
    "        print(\"C_p = {} F\".format(i[3][0][1][1],2))\n",
    "    else:\n",
    "        print(\"L_p = {} H\".format(i[3][0][1][1],2))\n",
    "    if(i[3][1][1][0] == \"Capacitor Serie\"):\n",
    "        print(\"C_s = {} F\".format(i[3][1][1][1],2))\n",
    "    elif (i[3][1][1][0] == \"Inductor Serie\"):\n",
    "        print(\"L_s = {} H\".format(i[3][1][1][1],2))"
   ],
   "metadata": {
    "collapsed": false,
    "pycharm": {
     "name": "#%%\n"
    }
   }
  },
  {
   "cell_type": "markdown",
   "source": [],
   "metadata": {
    "collapsed": false,
    "pycharm": {
     "name": "#%% md\n"
    }
   }
  },
  {
   "cell_type": "markdown",
   "source": [],
   "metadata": {
    "collapsed": false,
    "pycharm": {
     "name": "#%% md\n"
    }
   }
  }
 ],
 "metadata": {
  "kernelspec": {
   "display_name": "Python 3",
   "language": "python",
   "name": "python3"
  },
  "language_info": {
   "codemirror_mode": {
    "name": "ipython",
    "version": 2
   },
   "file_extension": ".py",
   "mimetype": "text/x-python",
   "name": "python",
   "nbconvert_exporter": "python",
   "pygments_lexer": "ipython2",
   "version": "2.7.6"
  }
 },
 "nbformat": 4,
 "nbformat_minor": 0
}