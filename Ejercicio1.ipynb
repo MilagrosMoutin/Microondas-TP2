{
 "cells": [
  {
   "cell_type": "code",
   "execution_count": 9,
   "outputs": [],
   "source": [
    "import math\n",
    "import numpy as np"
   ],
   "metadata": {
    "collapsed": false,
    "pycharm": {
     "name": "#%%\n"
    }
   }
  },
  {
   "cell_type": "markdown",
   "source": [
    "## Diseño de redes adaptadores tipo L"
   ],
   "metadata": {
    "collapsed": false,
    "pycharm": {
     "name": "#%% md\n"
    }
   }
  },
  {
   "cell_type": "markdown",
   "source": [
    "A continuación se calculan los distintos valores de susceptancia y reactancia para distintos valores de $Z_L$.\n",
    "Si se cumple que $R_L > Z_o$ se utilizan las siguientes fórmulas:\n",
    "$B = \\frac{X_L \\pm \\sqrt{\\frac{R_L}{Z_o}}\\cdot \\sqrt{R_L^2 + X_L^2Z_oR_L}}{R_L^2 + X_L^2}$\n",
    "$X = \\frac{1}{B} + \\frac{X_LZ_o}{R_L} + \\frac{Z_o}{BR_L}$\n",
    "Si se cumple que $R_L < Z_o$ se utilizan las siguientes fórmulas:\n",
    "$X = \\pm \\sqrt{R_L(Z_o-R_L)} - X_L$\n",
    "$B = \\pm \\sqrt{\\frac{Z_o - R_L}{R_L}}\\cdot\\frac{1}{Z_o}$"
   ],
   "metadata": {
    "collapsed": false,
    "pycharm": {
     "name": "#%% md\n"
    }
   }
  },
  {
   "cell_type": "markdown",
   "source": [
    "Datos del Problema:"
   ],
   "metadata": {
    "collapsed": false,
    "pycharm": {
     "name": "#%% md\n"
    }
   }
  },
  {
   "cell_type": "code",
   "execution_count": 10,
   "outputs": [
    {
     "name": "stdout",
     "output_type": "stream",
     "text": [
      "Impedancia Característica (Zo) = 50\n",
      "Impedancias ZL: [(1.4+2j), (0.2+0.3j), (0.5+0.9j), (1.6-0.3j)]\n"
     ]
    }
   ],
   "source": [
    "Zo = 50 #Ω\n",
    "ZL = [1.4+2J, 0.2+0.3J, 0.5+0.9J, 1.6-0.3J]\n",
    "print(\"Impedancia Característica (Zo) = {}\".format(Zo))\n",
    "print(\"Impedancias ZL: {}\".format(ZL))"
   ],
   "metadata": {
    "collapsed": false,
    "pycharm": {
     "name": "#%%\n"
    }
   }
  },
  {
   "cell_type": "markdown",
   "source": [
    "Se nombra al caso $R_L > Z_o$ CASO I, entonces se definen:"
   ],
   "metadata": {
    "collapsed": false,
    "pycharm": {
     "name": "#%% md\n"
    }
   }
  },
  {
   "cell_type": "code",
   "execution_count": 11,
   "metadata": {
    "collapsed": true,
    "pycharm": {
     "name": "#%%\n"
    }
   },
   "outputs": [],
   "source": [
    "B_1 = lambda RL, XL: [(XL+(np.sqrt(RL/Zo)*np.sqrt(RL**2 + XL**2 - (Zo*RL))))/(RL**2 + XL**2), (XL-(np.sqrt(RL/Zo)*np.sqrt(RL**2 + XL**2 - (Zo*RL))))/(RL**2 + XL**2)]\n",
    "X_1 = lambda RL, XL, B: [B[0]**-1 + ((XL*Zo)/RL) - (Zo/RL*B[0]), B[1]**-1 + ((XL*Zo)/RL) - (Zo/RL*B[1])]"
   ]
  },
  {
   "cell_type": "markdown",
   "source": [
    "Se al nombre al caso $R_L < Z_o$ CASO II, entonces se definen:"
   ],
   "metadata": {
    "collapsed": false,
    "pycharm": {
     "name": "#%% md\n"
    }
   }
  },
  {
   "cell_type": "code",
   "execution_count": 12,
   "outputs": [],
   "source": [
    "B_2 = lambda RL, XL: [np.sqrt(RL*(Zo-RL))-XL, -np.sqrt(RL*(Zo-RL))-XL]\n",
    "X_2 = lambda RL, XL: [np.sqrt((Zo-RL)/RL)/Zo, -np.sqrt((Zo-RL)/RL)/Zo]"
   ],
   "metadata": {
    "collapsed": false,
    "pycharm": {
     "name": "#%%\n"
    }
   }
  },
  {
   "cell_type": "code",
   "execution_count": 13,
   "outputs": [
    {
     "name": "stdout",
     "output_type": "stream",
     "text": [
      "[[[6.248636250920512, -10.248636250920512], [0.11783766072743589, -0.11783766072743589]], [[2.8559467676119, -3.4559467676119], [0.31559467676118996, -0.31559467676118996]], [[4.074937185533099, -5.8749371855331], [0.19899748742132398, -0.19899748742132398]], [[9.100000000000001, -8.5], [0.11, -0.11]]]\n"
     ]
    }
   ],
   "source": [
    "results = []\n",
    "for zl in ZL:\n",
    "    if (zl.real > Zo):\n",
    "        results.append([B_1(zl.real, zl.imag),X_1(zl.real, zl.imag, B_1(zl.real, zl.imag))])\n",
    "    else:\n",
    "        results.append([B_2(zl.real, zl.imag), X_2(zl.real, zl.imag)])"
   ],
   "metadata": {
    "collapsed": false,
    "pycharm": {
     "name": "#%%\n"
    }
   }
  },
  {
   "cell_type": "markdown",
   "source": [],
   "metadata": {
    "collapsed": false,
    "pycharm": {
     "name": "#%% md\n"
    }
   }
  }
 ],
 "metadata": {
  "kernelspec": {
   "display_name": "Python 3",
   "language": "python",
   "name": "python3"
  },
  "language_info": {
   "codemirror_mode": {
    "name": "ipython",
    "version": 2
   },
   "file_extension": ".py",
   "mimetype": "text/x-python",
   "name": "python",
   "nbconvert_exporter": "python",
   "pygments_lexer": "ipython2",
   "version": "2.7.6"
  }
 },
 "nbformat": 4,
 "nbformat_minor": 0
}